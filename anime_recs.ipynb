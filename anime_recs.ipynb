{
 "cells": [
  {
   "cell_type": "markdown",
   "metadata": {},
   "source": [
    "# Anime Recommendations #\n",
    "\n",
    "## Introduction ##\n",
    "This is a project to work with a large dataset directly from myanimelist.com API and create a recommendation algorithm to recommend shows based on user preferences.\n",
    "\n",
    "The dataset contains over 10k+ anime including information like genre and rating\n",
    "\n",
    "## Table of Contents ##\n",
    "\n",
    "- Objectives:\n",
    "\n",
    "    - Preprocessing\n",
    "        - Data loading\n",
    "        - Data visualization\n",
    "        - Data cleaning\n",
    "        - Data mapping\n",
    "\n",
    "    - Models\n",
    "        - scikit-surprise SVD reader\n",
    "        - Pearson's R correlation\n"
   ]
  },
  {
   "cell_type": "code",
   "execution_count": 1,
   "metadata": {},
   "outputs": [],
   "source": [
    "import numpy as np\n",
    "import pandas as pd\n",
    "import matplotlib.pyplot as plt\n",
    "from matplotlib.pyplot import figure\n",
    "import seaborn as sns\n",
    "\n",
    "sns.set_style(\"darkgrid\")"
   ]
  },
  {
   "cell_type": "markdown",
   "metadata": {},
   "source": [
    "# Data Preprocessing #\n",
    "\n",
    "The anime dataset, the main one that we are going to use contains these columns:\n",
    "\n",
    "- anime_id: the id of the anime from MAL API\n",
    "- name: name of the anime\n",
    "- genre: lists multiple genres that the show is categorized in\n",
    "- type: movie, TV, OVA, etc\n",
    "- episodes: number of episodes in the show (1 if it is a movie)\n",
    "- rating: average rating out of 10\n",
    "- members: group of community members that are in the anime's \"group\"\n",
    "\n",
    "Another dataset, rating.csv, has the data of all the users who gave each anime on MAL (myanimelist.net) a rating with the columns:\n",
    "\n",
    "- user_id: the user id of each account on MAL\n",
    "- anime_id: the id of the anime\n",
    "- rating: the rating that the user gave for the specific anime"
   ]
  },
  {
   "cell_type": "markdown",
   "metadata": {},
   "source": [
    "rst we load the dataset and grab all of its detailed information to check for missing data or types of variables"
   ]
  },
  {
   "cell_type": "code",
   "execution_count": 2,
   "metadata": {},
   "outputs": [],
   "source": [
    "def weighted_average(df, values, weights):\n",
    "    d = df[values]\n",
    "    w = df[weights]\n",
    "    return (d * w).sum() / w.sum()"
   ]
  },
  {
   "cell_type": "markdown",
   "metadata": {},
   "source": [
    "Using the pandas library, we read both csv's and convert them into dataframes using the read_csv method"
   ]
  },
  {
   "cell_type": "code",
   "execution_count": 3,
   "metadata": {},
   "outputs": [
    {
     "data": {
      "text/html": [
       "<div>\n",
       "<style scoped>\n",
       "    .dataframe tbody tr th:only-of-type {\n",
       "        vertical-align: middle;\n",
       "    }\n",
       "\n",
       "    .dataframe tbody tr th {\n",
       "        vertical-align: top;\n",
       "    }\n",
       "\n",
       "    .dataframe thead th {\n",
       "        text-align: right;\n",
       "    }\n",
       "</style>\n",
       "<table border=\"1\" class=\"dataframe\">\n",
       "  <thead>\n",
       "    <tr style=\"text-align: right;\">\n",
       "      <th></th>\n",
       "      <th>anime_id</th>\n",
       "      <th>name</th>\n",
       "      <th>genre</th>\n",
       "      <th>type</th>\n",
       "      <th>episodes</th>\n",
       "      <th>rating</th>\n",
       "      <th>members</th>\n",
       "    </tr>\n",
       "  </thead>\n",
       "  <tbody>\n",
       "    <tr>\n",
       "      <th>0</th>\n",
       "      <td>32281</td>\n",
       "      <td>Kimi no Na wa.</td>\n",
       "      <td>Drama, Romance, School, Supernatural</td>\n",
       "      <td>Movie</td>\n",
       "      <td>1</td>\n",
       "      <td>9.37</td>\n",
       "      <td>200630</td>\n",
       "    </tr>\n",
       "    <tr>\n",
       "      <th>1</th>\n",
       "      <td>5114</td>\n",
       "      <td>Fullmetal Alchemist: Brotherhood</td>\n",
       "      <td>Action, Adventure, Drama, Fantasy, Magic, Mili...</td>\n",
       "      <td>TV</td>\n",
       "      <td>64</td>\n",
       "      <td>9.26</td>\n",
       "      <td>793665</td>\n",
       "    </tr>\n",
       "    <tr>\n",
       "      <th>2</th>\n",
       "      <td>28977</td>\n",
       "      <td>Gintama°</td>\n",
       "      <td>Action, Comedy, Historical, Parody, Samurai, S...</td>\n",
       "      <td>TV</td>\n",
       "      <td>51</td>\n",
       "      <td>9.25</td>\n",
       "      <td>114262</td>\n",
       "    </tr>\n",
       "    <tr>\n",
       "      <th>3</th>\n",
       "      <td>9253</td>\n",
       "      <td>Steins;Gate</td>\n",
       "      <td>Sci-Fi, Thriller</td>\n",
       "      <td>TV</td>\n",
       "      <td>24</td>\n",
       "      <td>9.17</td>\n",
       "      <td>673572</td>\n",
       "    </tr>\n",
       "    <tr>\n",
       "      <th>4</th>\n",
       "      <td>9969</td>\n",
       "      <td>Gintama&amp;#039;</td>\n",
       "      <td>Action, Comedy, Historical, Parody, Samurai, S...</td>\n",
       "      <td>TV</td>\n",
       "      <td>51</td>\n",
       "      <td>9.16</td>\n",
       "      <td>151266</td>\n",
       "    </tr>\n",
       "  </tbody>\n",
       "</table>\n",
       "</div>"
      ],
      "text/plain": [
       "   anime_id                              name  \\\n",
       "0     32281                    Kimi no Na wa.   \n",
       "1      5114  Fullmetal Alchemist: Brotherhood   \n",
       "2     28977                          Gintama°   \n",
       "3      9253                       Steins;Gate   \n",
       "4      9969                     Gintama&#039;   \n",
       "\n",
       "                                               genre   type episodes  rating  \\\n",
       "0               Drama, Romance, School, Supernatural  Movie        1    9.37   \n",
       "1  Action, Adventure, Drama, Fantasy, Magic, Mili...     TV       64    9.26   \n",
       "2  Action, Comedy, Historical, Parody, Samurai, S...     TV       51    9.25   \n",
       "3                                   Sci-Fi, Thriller     TV       24    9.17   \n",
       "4  Action, Comedy, Historical, Parody, Samurai, S...     TV       51    9.16   \n",
       "\n",
       "   members  \n",
       "0   200630  \n",
       "1   793665  \n",
       "2   114262  \n",
       "3   673572  \n",
       "4   151266  "
      ]
     },
     "execution_count": 3,
     "metadata": {},
     "output_type": "execute_result"
    }
   ],
   "source": [
    "anime_df = pd.read_csv(\"anime.csv\", index_col=False)\n",
    "anime_df.head()"
   ]
  },
  {
   "cell_type": "code",
   "execution_count": 4,
   "metadata": {},
   "outputs": [
    {
     "data": {
      "text/html": [
       "<div>\n",
       "<style scoped>\n",
       "    .dataframe tbody tr th:only-of-type {\n",
       "        vertical-align: middle;\n",
       "    }\n",
       "\n",
       "    .dataframe tbody tr th {\n",
       "        vertical-align: top;\n",
       "    }\n",
       "\n",
       "    .dataframe thead th {\n",
       "        text-align: right;\n",
       "    }\n",
       "</style>\n",
       "<table border=\"1\" class=\"dataframe\">\n",
       "  <thead>\n",
       "    <tr style=\"text-align: right;\">\n",
       "      <th></th>\n",
       "      <th>user_id</th>\n",
       "      <th>anime_id</th>\n",
       "      <th>rating</th>\n",
       "    </tr>\n",
       "  </thead>\n",
       "  <tbody>\n",
       "    <tr>\n",
       "      <th>0</th>\n",
       "      <td>1</td>\n",
       "      <td>20</td>\n",
       "      <td>-1</td>\n",
       "    </tr>\n",
       "    <tr>\n",
       "      <th>1</th>\n",
       "      <td>1</td>\n",
       "      <td>24</td>\n",
       "      <td>-1</td>\n",
       "    </tr>\n",
       "    <tr>\n",
       "      <th>2</th>\n",
       "      <td>1</td>\n",
       "      <td>79</td>\n",
       "      <td>-1</td>\n",
       "    </tr>\n",
       "    <tr>\n",
       "      <th>3</th>\n",
       "      <td>1</td>\n",
       "      <td>226</td>\n",
       "      <td>-1</td>\n",
       "    </tr>\n",
       "    <tr>\n",
       "      <th>4</th>\n",
       "      <td>1</td>\n",
       "      <td>241</td>\n",
       "      <td>-1</td>\n",
       "    </tr>\n",
       "  </tbody>\n",
       "</table>\n",
       "</div>"
      ],
      "text/plain": [
       "   user_id  anime_id  rating\n",
       "0        1        20      -1\n",
       "1        1        24      -1\n",
       "2        1        79      -1\n",
       "3        1       226      -1\n",
       "4        1       241      -1"
      ]
     },
     "execution_count": 4,
     "metadata": {},
     "output_type": "execute_result"
    }
   ],
   "source": [
    "user_df = pd.read_csv(\"rating.csv\", index_col=False)\n",
    "user_df.head()"
   ]
  },
  {
   "cell_type": "markdown",
   "metadata": {},
   "source": [
    "Using info and describe, we can see the number of items in each column that are not null and the type of the column as well. Describe will give us a 5 number summary on the non-categorical variables in the dataframe"
   ]
  },
  {
   "cell_type": "code",
   "execution_count": 5,
   "metadata": {},
   "outputs": [
    {
     "name": "stdout",
     "output_type": "stream",
     "text": [
      "<class 'pandas.core.frame.DataFrame'>\n",
      "RangeIndex: 12294 entries, 0 to 12293\n",
      "Data columns (total 7 columns):\n",
      " #   Column    Non-Null Count  Dtype  \n",
      "---  ------    --------------  -----  \n",
      " 0   anime_id  12294 non-null  int64  \n",
      " 1   name      12294 non-null  object \n",
      " 2   genre     12232 non-null  object \n",
      " 3   type      12269 non-null  object \n",
      " 4   episodes  12294 non-null  object \n",
      " 5   rating    12064 non-null  float64\n",
      " 6   members   12294 non-null  int64  \n",
      "dtypes: float64(1), int64(2), object(4)\n",
      "memory usage: 672.5+ KB\n"
     ]
    }
   ],
   "source": [
    "anime_df.info()"
   ]
  },
  {
   "cell_type": "code",
   "execution_count": 6,
   "metadata": {},
   "outputs": [
    {
     "data": {
      "text/html": [
       "<div>\n",
       "<style scoped>\n",
       "    .dataframe tbody tr th:only-of-type {\n",
       "        vertical-align: middle;\n",
       "    }\n",
       "\n",
       "    .dataframe tbody tr th {\n",
       "        vertical-align: top;\n",
       "    }\n",
       "\n",
       "    .dataframe thead th {\n",
       "        text-align: right;\n",
       "    }\n",
       "</style>\n",
       "<table border=\"1\" class=\"dataframe\">\n",
       "  <thead>\n",
       "    <tr style=\"text-align: right;\">\n",
       "      <th></th>\n",
       "      <th>anime_id</th>\n",
       "      <th>rating</th>\n",
       "      <th>members</th>\n",
       "    </tr>\n",
       "  </thead>\n",
       "  <tbody>\n",
       "    <tr>\n",
       "      <th>count</th>\n",
       "      <td>12294.000000</td>\n",
       "      <td>12064.000000</td>\n",
       "      <td>1.229400e+04</td>\n",
       "    </tr>\n",
       "    <tr>\n",
       "      <th>mean</th>\n",
       "      <td>14058.221653</td>\n",
       "      <td>6.473902</td>\n",
       "      <td>1.807134e+04</td>\n",
       "    </tr>\n",
       "    <tr>\n",
       "      <th>std</th>\n",
       "      <td>11455.294701</td>\n",
       "      <td>1.026746</td>\n",
       "      <td>5.482068e+04</td>\n",
       "    </tr>\n",
       "    <tr>\n",
       "      <th>min</th>\n",
       "      <td>1.000000</td>\n",
       "      <td>1.670000</td>\n",
       "      <td>5.000000e+00</td>\n",
       "    </tr>\n",
       "    <tr>\n",
       "      <th>25%</th>\n",
       "      <td>3484.250000</td>\n",
       "      <td>5.880000</td>\n",
       "      <td>2.250000e+02</td>\n",
       "    </tr>\n",
       "    <tr>\n",
       "      <th>50%</th>\n",
       "      <td>10260.500000</td>\n",
       "      <td>6.570000</td>\n",
       "      <td>1.550000e+03</td>\n",
       "    </tr>\n",
       "    <tr>\n",
       "      <th>75%</th>\n",
       "      <td>24794.500000</td>\n",
       "      <td>7.180000</td>\n",
       "      <td>9.437000e+03</td>\n",
       "    </tr>\n",
       "    <tr>\n",
       "      <th>max</th>\n",
       "      <td>34527.000000</td>\n",
       "      <td>10.000000</td>\n",
       "      <td>1.013917e+06</td>\n",
       "    </tr>\n",
       "  </tbody>\n",
       "</table>\n",
       "</div>"
      ],
      "text/plain": [
       "           anime_id        rating       members\n",
       "count  12294.000000  12064.000000  1.229400e+04\n",
       "mean   14058.221653      6.473902  1.807134e+04\n",
       "std    11455.294701      1.026746  5.482068e+04\n",
       "min        1.000000      1.670000  5.000000e+00\n",
       "25%     3484.250000      5.880000  2.250000e+02\n",
       "50%    10260.500000      6.570000  1.550000e+03\n",
       "75%    24794.500000      7.180000  9.437000e+03\n",
       "max    34527.000000     10.000000  1.013917e+06"
      ]
     },
     "execution_count": 6,
     "metadata": {},
     "output_type": "execute_result"
    }
   ],
   "source": [
    "anime_df.describe()"
   ]
  },
  {
   "cell_type": "markdown",
   "metadata": {},
   "source": [
    "There is a clear difference in numbers for each column, so we use the dropna method to drop each row that has a null variable to give us a better model later down the road"
   ]
  },
  {
   "cell_type": "code",
   "execution_count": 7,
   "metadata": {},
   "outputs": [
    {
     "name": "stdout",
     "output_type": "stream",
     "text": [
      "<class 'pandas.core.frame.DataFrame'>\n",
      "Int64Index: 12017 entries, 0 to 12293\n",
      "Data columns (total 7 columns):\n",
      " #   Column    Non-Null Count  Dtype  \n",
      "---  ------    --------------  -----  \n",
      " 0   anime_id  12017 non-null  int64  \n",
      " 1   name      12017 non-null  object \n",
      " 2   genre     12017 non-null  object \n",
      " 3   type      12017 non-null  object \n",
      " 4   episodes  12017 non-null  object \n",
      " 5   rating    12017 non-null  float64\n",
      " 6   members   12017 non-null  int64  \n",
      "dtypes: float64(1), int64(2), object(4)\n",
      "memory usage: 751.1+ KB\n"
     ]
    }
   ],
   "source": [
    "#some comments about removing null cells\n",
    "anime_df = anime_df.dropna()\n",
    "anime_df.info()"
   ]
  },
  {
   "cell_type": "markdown",
   "metadata": {},
   "source": [
    "New columns are created in order to make processing the data easier and it will make it more easy to implement visualization of the data"
   ]
  },
  {
   "cell_type": "code",
   "execution_count": 8,
   "metadata": {},
   "outputs": [
    {
     "data": {
      "text/html": [
       "<div>\n",
       "<style scoped>\n",
       "    .dataframe tbody tr th:only-of-type {\n",
       "        vertical-align: middle;\n",
       "    }\n",
       "\n",
       "    .dataframe tbody tr th {\n",
       "        vertical-align: top;\n",
       "    }\n",
       "\n",
       "    .dataframe thead th {\n",
       "        text-align: right;\n",
       "    }\n",
       "</style>\n",
       "<table border=\"1\" class=\"dataframe\">\n",
       "  <thead>\n",
       "    <tr style=\"text-align: right;\">\n",
       "      <th></th>\n",
       "      <th>anime_id</th>\n",
       "      <th>name</th>\n",
       "      <th>genre</th>\n",
       "      <th>type</th>\n",
       "      <th>episodes</th>\n",
       "      <th>rating</th>\n",
       "      <th>members</th>\n",
       "      <th>rating_rounded</th>\n",
       "    </tr>\n",
       "  </thead>\n",
       "  <tbody>\n",
       "    <tr>\n",
       "      <th>0</th>\n",
       "      <td>32281</td>\n",
       "      <td>Kimi no Na wa.</td>\n",
       "      <td>Drama, Romance, School, Supernatural</td>\n",
       "      <td>Movie</td>\n",
       "      <td>1</td>\n",
       "      <td>9.37</td>\n",
       "      <td>200630</td>\n",
       "      <td>9.0</td>\n",
       "    </tr>\n",
       "    <tr>\n",
       "      <th>1</th>\n",
       "      <td>5114</td>\n",
       "      <td>Fullmetal Alchemist: Brotherhood</td>\n",
       "      <td>Action, Adventure, Drama, Fantasy, Magic, Mili...</td>\n",
       "      <td>TV</td>\n",
       "      <td>64</td>\n",
       "      <td>9.26</td>\n",
       "      <td>793665</td>\n",
       "      <td>9.0</td>\n",
       "    </tr>\n",
       "    <tr>\n",
       "      <th>2</th>\n",
       "      <td>28977</td>\n",
       "      <td>Gintama°</td>\n",
       "      <td>Action, Comedy, Historical, Parody, Samurai, S...</td>\n",
       "      <td>TV</td>\n",
       "      <td>51</td>\n",
       "      <td>9.25</td>\n",
       "      <td>114262</td>\n",
       "      <td>9.0</td>\n",
       "    </tr>\n",
       "    <tr>\n",
       "      <th>3</th>\n",
       "      <td>9253</td>\n",
       "      <td>Steins;Gate</td>\n",
       "      <td>Sci-Fi, Thriller</td>\n",
       "      <td>TV</td>\n",
       "      <td>24</td>\n",
       "      <td>9.17</td>\n",
       "      <td>673572</td>\n",
       "      <td>9.0</td>\n",
       "    </tr>\n",
       "    <tr>\n",
       "      <th>4</th>\n",
       "      <td>9969</td>\n",
       "      <td>Gintama&amp;#039;</td>\n",
       "      <td>Action, Comedy, Historical, Parody, Samurai, S...</td>\n",
       "      <td>TV</td>\n",
       "      <td>51</td>\n",
       "      <td>9.16</td>\n",
       "      <td>151266</td>\n",
       "      <td>9.0</td>\n",
       "    </tr>\n",
       "  </tbody>\n",
       "</table>\n",
       "</div>"
      ],
      "text/plain": [
       "   anime_id                              name  \\\n",
       "0     32281                    Kimi no Na wa.   \n",
       "1      5114  Fullmetal Alchemist: Brotherhood   \n",
       "2     28977                          Gintama°   \n",
       "3      9253                       Steins;Gate   \n",
       "4      9969                     Gintama&#039;   \n",
       "\n",
       "                                               genre   type episodes  rating  \\\n",
       "0               Drama, Romance, School, Supernatural  Movie        1    9.37   \n",
       "1  Action, Adventure, Drama, Fantasy, Magic, Mili...     TV       64    9.26   \n",
       "2  Action, Comedy, Historical, Parody, Samurai, S...     TV       51    9.25   \n",
       "3                                   Sci-Fi, Thriller     TV       24    9.17   \n",
       "4  Action, Comedy, Historical, Parody, Samurai, S...     TV       51    9.16   \n",
       "\n",
       "   members  rating_rounded  \n",
       "0   200630             9.0  \n",
       "1   793665             9.0  \n",
       "2   114262             9.0  \n",
       "3   673572             9.0  \n",
       "4   151266             9.0  "
      ]
     },
     "execution_count": 8,
     "metadata": {},
     "output_type": "execute_result"
    }
   ],
   "source": [
    "anime_df['rating_rounded'] = anime_df['rating'].round()\n",
    "anime_df.head()"
   ]
  },
  {
   "cell_type": "code",
   "execution_count": 9,
   "metadata": {},
   "outputs": [
    {
     "data": {
      "text/html": [
       "<div>\n",
       "<style scoped>\n",
       "    .dataframe tbody tr th:only-of-type {\n",
       "        vertical-align: middle;\n",
       "    }\n",
       "\n",
       "    .dataframe tbody tr th {\n",
       "        vertical-align: top;\n",
       "    }\n",
       "\n",
       "    .dataframe thead th {\n",
       "        text-align: right;\n",
       "    }\n",
       "</style>\n",
       "<table border=\"1\" class=\"dataframe\">\n",
       "  <thead>\n",
       "    <tr style=\"text-align: right;\">\n",
       "      <th></th>\n",
       "      <th>anime_id</th>\n",
       "      <th>name</th>\n",
       "      <th>genre</th>\n",
       "      <th>type</th>\n",
       "      <th>episodes</th>\n",
       "      <th>rating</th>\n",
       "      <th>members</th>\n",
       "      <th>rating_rounded</th>\n",
       "    </tr>\n",
       "  </thead>\n",
       "  <tbody>\n",
       "    <tr>\n",
       "      <th>0</th>\n",
       "      <td>32281</td>\n",
       "      <td>Kimi no Na wa.</td>\n",
       "      <td>Drama, Romance, School, Supernatural</td>\n",
       "      <td>Movie</td>\n",
       "      <td>1.0</td>\n",
       "      <td>9.37</td>\n",
       "      <td>200630</td>\n",
       "      <td>9.0</td>\n",
       "    </tr>\n",
       "    <tr>\n",
       "      <th>1</th>\n",
       "      <td>5114</td>\n",
       "      <td>Fullmetal Alchemist: Brotherhood</td>\n",
       "      <td>Action, Adventure, Drama, Fantasy, Magic, Mili...</td>\n",
       "      <td>TV</td>\n",
       "      <td>64.0</td>\n",
       "      <td>9.26</td>\n",
       "      <td>793665</td>\n",
       "      <td>9.0</td>\n",
       "    </tr>\n",
       "    <tr>\n",
       "      <th>2</th>\n",
       "      <td>28977</td>\n",
       "      <td>Gintama°</td>\n",
       "      <td>Action, Comedy, Historical, Parody, Samurai, S...</td>\n",
       "      <td>TV</td>\n",
       "      <td>51.0</td>\n",
       "      <td>9.25</td>\n",
       "      <td>114262</td>\n",
       "      <td>9.0</td>\n",
       "    </tr>\n",
       "    <tr>\n",
       "      <th>3</th>\n",
       "      <td>9253</td>\n",
       "      <td>Steins;Gate</td>\n",
       "      <td>Sci-Fi, Thriller</td>\n",
       "      <td>TV</td>\n",
       "      <td>24.0</td>\n",
       "      <td>9.17</td>\n",
       "      <td>673572</td>\n",
       "      <td>9.0</td>\n",
       "    </tr>\n",
       "    <tr>\n",
       "      <th>4</th>\n",
       "      <td>9969</td>\n",
       "      <td>Gintama&amp;#039;</td>\n",
       "      <td>Action, Comedy, Historical, Parody, Samurai, S...</td>\n",
       "      <td>TV</td>\n",
       "      <td>51.0</td>\n",
       "      <td>9.16</td>\n",
       "      <td>151266</td>\n",
       "      <td>9.0</td>\n",
       "    </tr>\n",
       "  </tbody>\n",
       "</table>\n",
       "</div>"
      ],
      "text/plain": [
       "   anime_id                              name  \\\n",
       "0     32281                    Kimi no Na wa.   \n",
       "1      5114  Fullmetal Alchemist: Brotherhood   \n",
       "2     28977                          Gintama°   \n",
       "3      9253                       Steins;Gate   \n",
       "4      9969                     Gintama&#039;   \n",
       "\n",
       "                                               genre   type  episodes  rating  \\\n",
       "0               Drama, Romance, School, Supernatural  Movie       1.0    9.37   \n",
       "1  Action, Adventure, Drama, Fantasy, Magic, Mili...     TV      64.0    9.26   \n",
       "2  Action, Comedy, Historical, Parody, Samurai, S...     TV      51.0    9.25   \n",
       "3                                   Sci-Fi, Thriller     TV      24.0    9.17   \n",
       "4  Action, Comedy, Historical, Parody, Samurai, S...     TV      51.0    9.16   \n",
       "\n",
       "   members  rating_rounded  \n",
       "0   200630             9.0  \n",
       "1   793665             9.0  \n",
       "2   114262             9.0  \n",
       "3   673572             9.0  \n",
       "4   151266             9.0  "
      ]
     },
     "execution_count": 9,
     "metadata": {},
     "output_type": "execute_result"
    }
   ],
   "source": [
    "anime_df['episodes'] = anime_df['episodes'].astype(str)\n",
    "anime_df['episodes'] = pd.to_numeric(anime_df['episodes'], errors = 'coerce', downcast = 'integer')\n",
    "anime_df.head()"
   ]
  },
  {
   "cell_type": "code",
   "execution_count": 10,
   "metadata": {},
   "outputs": [
    {
     "data": {
      "text/html": [
       "<div>\n",
       "<style scoped>\n",
       "    .dataframe tbody tr th:only-of-type {\n",
       "        vertical-align: middle;\n",
       "    }\n",
       "\n",
       "    .dataframe tbody tr th {\n",
       "        vertical-align: top;\n",
       "    }\n",
       "\n",
       "    .dataframe thead th {\n",
       "        text-align: right;\n",
       "    }\n",
       "</style>\n",
       "<table border=\"1\" class=\"dataframe\">\n",
       "  <thead>\n",
       "    <tr style=\"text-align: right;\">\n",
       "      <th></th>\n",
       "      <th>anime_id</th>\n",
       "      <th>name</th>\n",
       "      <th>genre</th>\n",
       "      <th>type</th>\n",
       "      <th>episodes</th>\n",
       "      <th>rating</th>\n",
       "      <th>members</th>\n",
       "      <th>rating_rounded</th>\n",
       "      <th>length</th>\n",
       "    </tr>\n",
       "  </thead>\n",
       "  <tbody>\n",
       "    <tr>\n",
       "      <th>0</th>\n",
       "      <td>32281</td>\n",
       "      <td>Kimi no Na wa.</td>\n",
       "      <td>Drama, Romance, School, Supernatural</td>\n",
       "      <td>Movie</td>\n",
       "      <td>1.0</td>\n",
       "      <td>9.37</td>\n",
       "      <td>200630</td>\n",
       "      <td>9.0</td>\n",
       "      <td>movie/OVA</td>\n",
       "    </tr>\n",
       "    <tr>\n",
       "      <th>1</th>\n",
       "      <td>5114</td>\n",
       "      <td>Fullmetal Alchemist: Brotherhood</td>\n",
       "      <td>Action, Adventure, Drama, Fantasy, Magic, Mili...</td>\n",
       "      <td>TV</td>\n",
       "      <td>64.0</td>\n",
       "      <td>9.26</td>\n",
       "      <td>793665</td>\n",
       "      <td>9.0</td>\n",
       "      <td>extra long</td>\n",
       "    </tr>\n",
       "    <tr>\n",
       "      <th>2</th>\n",
       "      <td>28977</td>\n",
       "      <td>Gintama°</td>\n",
       "      <td>Action, Comedy, Historical, Parody, Samurai, S...</td>\n",
       "      <td>TV</td>\n",
       "      <td>51.0</td>\n",
       "      <td>9.25</td>\n",
       "      <td>114262</td>\n",
       "      <td>9.0</td>\n",
       "      <td>extra long</td>\n",
       "    </tr>\n",
       "    <tr>\n",
       "      <th>3</th>\n",
       "      <td>9253</td>\n",
       "      <td>Steins;Gate</td>\n",
       "      <td>Sci-Fi, Thriller</td>\n",
       "      <td>TV</td>\n",
       "      <td>24.0</td>\n",
       "      <td>9.17</td>\n",
       "      <td>673572</td>\n",
       "      <td>9.0</td>\n",
       "      <td>long</td>\n",
       "    </tr>\n",
       "    <tr>\n",
       "      <th>4</th>\n",
       "      <td>9969</td>\n",
       "      <td>Gintama&amp;#039;</td>\n",
       "      <td>Action, Comedy, Historical, Parody, Samurai, S...</td>\n",
       "      <td>TV</td>\n",
       "      <td>51.0</td>\n",
       "      <td>9.16</td>\n",
       "      <td>151266</td>\n",
       "      <td>9.0</td>\n",
       "      <td>extra long</td>\n",
       "    </tr>\n",
       "  </tbody>\n",
       "</table>\n",
       "</div>"
      ],
      "text/plain": [
       "   anime_id                              name  \\\n",
       "0     32281                    Kimi no Na wa.   \n",
       "1      5114  Fullmetal Alchemist: Brotherhood   \n",
       "2     28977                          Gintama°   \n",
       "3      9253                       Steins;Gate   \n",
       "4      9969                     Gintama&#039;   \n",
       "\n",
       "                                               genre   type  episodes  rating  \\\n",
       "0               Drama, Romance, School, Supernatural  Movie       1.0    9.37   \n",
       "1  Action, Adventure, Drama, Fantasy, Magic, Mili...     TV      64.0    9.26   \n",
       "2  Action, Comedy, Historical, Parody, Samurai, S...     TV      51.0    9.25   \n",
       "3                                   Sci-Fi, Thriller     TV      24.0    9.17   \n",
       "4  Action, Comedy, Historical, Parody, Samurai, S...     TV      51.0    9.16   \n",
       "\n",
       "   members  rating_rounded      length  \n",
       "0   200630             9.0   movie/OVA  \n",
       "1   793665             9.0  extra long  \n",
       "2   114262             9.0  extra long  \n",
       "3   673572             9.0        long  \n",
       "4   151266             9.0  extra long  "
      ]
     },
     "execution_count": 10,
     "metadata": {},
     "output_type": "execute_result"
    }
   ],
   "source": [
    "bins = [0, 1, 13, 25, 10000]\n",
    "labels = ['movie/OVA', 'seasonal', 'long', 'extra long']\n",
    "anime_df['length'] = pd.cut(anime_df['episodes'], bins = bins, labels = labels)\n",
    "anime_df.head()"
   ]
  },
  {
   "cell_type": "code",
   "execution_count": 11,
   "metadata": {},
   "outputs": [
    {
     "data": {
      "text/html": [
       "<div>\n",
       "<style scoped>\n",
       "    .dataframe tbody tr th:only-of-type {\n",
       "        vertical-align: middle;\n",
       "    }\n",
       "\n",
       "    .dataframe tbody tr th {\n",
       "        vertical-align: top;\n",
       "    }\n",
       "\n",
       "    .dataframe thead th {\n",
       "        text-align: right;\n",
       "    }\n",
       "</style>\n",
       "<table border=\"1\" class=\"dataframe\">\n",
       "  <thead>\n",
       "    <tr style=\"text-align: right;\">\n",
       "      <th></th>\n",
       "      <th>anime_id</th>\n",
       "      <th>name</th>\n",
       "      <th>genre</th>\n",
       "      <th>type</th>\n",
       "      <th>episodes</th>\n",
       "      <th>rating</th>\n",
       "      <th>members</th>\n",
       "      <th>rating_rounded</th>\n",
       "      <th>length</th>\n",
       "      <th>popularity</th>\n",
       "    </tr>\n",
       "  </thead>\n",
       "  <tbody>\n",
       "    <tr>\n",
       "      <th>0</th>\n",
       "      <td>32281</td>\n",
       "      <td>Kimi no Na wa.</td>\n",
       "      <td>Drama, Romance, School, Supernatural</td>\n",
       "      <td>Movie</td>\n",
       "      <td>1.0</td>\n",
       "      <td>9.37</td>\n",
       "      <td>200630</td>\n",
       "      <td>9.0</td>\n",
       "      <td>movie/OVA</td>\n",
       "      <td>true</td>\n",
       "    </tr>\n",
       "    <tr>\n",
       "      <th>1</th>\n",
       "      <td>5114</td>\n",
       "      <td>Fullmetal Alchemist: Brotherhood</td>\n",
       "      <td>Action, Adventure, Drama, Fantasy, Magic, Mili...</td>\n",
       "      <td>TV</td>\n",
       "      <td>64.0</td>\n",
       "      <td>9.26</td>\n",
       "      <td>793665</td>\n",
       "      <td>9.0</td>\n",
       "      <td>extra long</td>\n",
       "      <td>true</td>\n",
       "    </tr>\n",
       "    <tr>\n",
       "      <th>2</th>\n",
       "      <td>28977</td>\n",
       "      <td>Gintama°</td>\n",
       "      <td>Action, Comedy, Historical, Parody, Samurai, S...</td>\n",
       "      <td>TV</td>\n",
       "      <td>51.0</td>\n",
       "      <td>9.25</td>\n",
       "      <td>114262</td>\n",
       "      <td>9.0</td>\n",
       "      <td>extra long</td>\n",
       "      <td>true</td>\n",
       "    </tr>\n",
       "    <tr>\n",
       "      <th>3</th>\n",
       "      <td>9253</td>\n",
       "      <td>Steins;Gate</td>\n",
       "      <td>Sci-Fi, Thriller</td>\n",
       "      <td>TV</td>\n",
       "      <td>24.0</td>\n",
       "      <td>9.17</td>\n",
       "      <td>673572</td>\n",
       "      <td>9.0</td>\n",
       "      <td>long</td>\n",
       "      <td>true</td>\n",
       "    </tr>\n",
       "    <tr>\n",
       "      <th>4</th>\n",
       "      <td>9969</td>\n",
       "      <td>Gintama&amp;#039;</td>\n",
       "      <td>Action, Comedy, Historical, Parody, Samurai, S...</td>\n",
       "      <td>TV</td>\n",
       "      <td>51.0</td>\n",
       "      <td>9.16</td>\n",
       "      <td>151266</td>\n",
       "      <td>9.0</td>\n",
       "      <td>extra long</td>\n",
       "      <td>true</td>\n",
       "    </tr>\n",
       "  </tbody>\n",
       "</table>\n",
       "</div>"
      ],
      "text/plain": [
       "   anime_id                              name  \\\n",
       "0     32281                    Kimi no Na wa.   \n",
       "1      5114  Fullmetal Alchemist: Brotherhood   \n",
       "2     28977                          Gintama°   \n",
       "3      9253                       Steins;Gate   \n",
       "4      9969                     Gintama&#039;   \n",
       "\n",
       "                                               genre   type  episodes  rating  \\\n",
       "0               Drama, Romance, School, Supernatural  Movie       1.0    9.37   \n",
       "1  Action, Adventure, Drama, Fantasy, Magic, Mili...     TV      64.0    9.26   \n",
       "2  Action, Comedy, Historical, Parody, Samurai, S...     TV      51.0    9.25   \n",
       "3                                   Sci-Fi, Thriller     TV      24.0    9.17   \n",
       "4  Action, Comedy, Historical, Parody, Samurai, S...     TV      51.0    9.16   \n",
       "\n",
       "   members  rating_rounded      length popularity  \n",
       "0   200630             9.0   movie/OVA       true  \n",
       "1   793665             9.0  extra long       true  \n",
       "2   114262             9.0  extra long       true  \n",
       "3   673572             9.0        long       true  \n",
       "4   151266             9.0  extra long       true  "
      ]
     },
     "execution_count": 11,
     "metadata": {},
     "output_type": "execute_result"
    }
   ],
   "source": [
    "bins = [0, 5000, 99999999]\n",
    "labels = ['false', 'true']\n",
    "anime_df['popularity'] = pd.cut(anime_df['members'], bins = bins, labels = labels)\n",
    "anime_df.head()"
   ]
  },
  {
   "cell_type": "code",
   "execution_count": 12,
   "metadata": {},
   "outputs": [
    {
     "data": {
      "text/plain": [
       "array(['Drama, Romance, School, Supernatural',\n",
       "       'Action, Adventure, Drama, Fantasy, Magic, Military, Shounen',\n",
       "       'Action, Comedy, Historical, Parody, Samurai, Sci-Fi, Shounen',\n",
       "       ..., 'Action, Comedy, Hentai, Romance, Supernatural',\n",
       "       'Hentai, Sports', 'Hentai, Slice of Life'], dtype=object)"
      ]
     },
     "execution_count": 12,
     "metadata": {},
     "output_type": "execute_result"
    }
   ],
   "source": [
    "anime_df['genre'].astype(str)\n",
    "anime_df['genre'].str.split(pat = ',')\n",
    "anime_df['genre'].unique()\n",
    "\n",
    "#will search in each element if value is in list\n",
    "\n",
    "# parse = anime_df['genre'].apply(lambda x: [value] not in x)\n",
    "# df_copy = anime_df[parse]\n",
    "# df_copy\n"
   ]
  },
  {
   "cell_type": "markdown",
   "metadata": {},
   "source": [
    "# Data Visualization #"
   ]
  },
  {
   "cell_type": "markdown",
   "metadata": {},
   "source": [
    "Using the seaborn, library we can compare variables in the anime dataframe to look for trends to see if we are able to trim data or make adjustments as needed to prevent bias."
   ]
  },
  {
   "cell_type": "code",
   "execution_count": 13,
   "metadata": {},
   "outputs": [
    {
     "data": {
      "image/png": "[encoded data removed]",
      "text/plain": [
       "<Figure size 432x288 with 1 Axes>"
      ]
     },
     "metadata": {},
     "output_type": "display_data"
    }
   ],
   "source": [
    "plot = sns.countplot(x = anime_df['popularity'])\n",
    "plot.set(title = 'Amount of Popular Anime')\n",
    "plt.show()"
   ]
  },
  {
   "cell_type": "markdown",
   "metadata": {},
   "source": [
    "We can see that there are a lot of anime that aren't considered popular (5000 or less people have watched it/given it a rating) which means that there is a lot of extra anime on the list that may or may not be significant"
   ]
  },
  {
   "cell_type": "code",
   "execution_count": 14,
   "metadata": {},
   "outputs": [
    {
     "data": {
      "image/png": "[encoded data removed]",
      "text/plain": [
       "<Figure size 432x288 with 1 Axes>"
      ]
     },
     "metadata": {},
     "output_type": "display_data"
    }
   ],
   "source": [
    "plot = sns.countplot(x = anime_df['rating_rounded'])\n",
    "plot.set(xlabel = 'Rating (rounded)', title = 'Estimated Ratings Count')\n",
    "plt.show()"
   ]
  },
  {
   "cell_type": "markdown",
   "metadata": {},
   "source": [
    "Most users are giving ratings around 6 or 7 which means that there are not many people leaving bad ratings, which is likely since they would not put the effort into giving it a bad rating if they didn't enjoy it."
   ]
  },
  {
   "cell_type": "code",
   "execution_count": 15,
   "metadata": {},
   "outputs": [
    {
     "data": {
      "image/png": "[encoded data removed]",
      "text/plain": [
       "<Figure size 432x288 with 1 Axes>"
      ]
     },
     "metadata": {},
     "output_type": "display_data"
    }
   ],
   "source": [
    "plot = sns.barplot(data = anime_df, x = 'length', y = 'members')\n",
    "plot.set(title = 'Number of Members Who Watched Anime')\n",
    "plt.show()"
   ]
  },
  {
   "cell_type": "markdown",
   "metadata": {},
   "source": [
    "There is a significant difference with the amount of members that watch long anime (25 episodes) compared to seasonal or extra long type anime (25+) which can be related to older anime which used to have 25 episodes "
   ]
  },
  {
   "cell_type": "code",
   "execution_count": 16,
   "metadata": {},
   "outputs": [
    {
     "data": {
      "image/png": "[encoded data removed]",
      "text/plain": [
       "<Figure size 432x288 with 1 Axes>"
      ]
     },
     "metadata": {},
     "output_type": "display_data"
    }
   ],
   "source": [
    "plot = sns.barplot(data = anime_df, x = 'popularity', y = 'rating')\n",
    "plot.set(title = 'Popularity of Anime')\n",
    "plt.show()"
   ]
  },
  {
   "cell_type": "markdown",
   "metadata": {},
   "source": [
    "The average rating of popular anime, which does not have a large difference which means that the smaller audiences enjoyed the anime that they watched"
   ]
  },
  {
   "cell_type": "code",
   "execution_count": 17,
   "metadata": {},
   "outputs": [
    {
     "data": {
      "image/png": "[encoded data removed]",
      "text/plain": [
       "<Figure size 432x288 with 1 Axes>"
      ]
     },
     "metadata": {},
     "output_type": "display_data"
    }
   ],
   "source": [
    "plot = sns.barplot(x = anime_df['type'], y = anime_df['rating_rounded'], hue= anime_df['type'])\n",
    "plot.set(ylabel = 'Average Rating', title = 'Average Rating of Anime by Type')\n",
    "plt.show()"
   ]
  },
  {
   "cell_type": "code",
   "execution_count": 18,
   "metadata": {},
   "outputs": [
    {
     "data": {
      "image/png": "[encoded data removed]",
      "text/plain": [
       "<Figure size 1080x720 with 1 Axes>"
      ]
     },
     "metadata": {},
     "output_type": "display_data"
    }
   ],
   "source": [
    "plt.figure(figsize = (15, 10))\n",
    "plot = sns.scatterplot(x = anime_df['episodes'], y = anime_df['rating'], hue = anime_df['length'])\n",
    "plot.set(title = 'Rating by Episode Length')\n",
    "plt.show()"
   ]
  },
  {
   "cell_type": "markdown",
   "metadata": {},
   "source": [
    "The spread is the same as the bar plot in the beginning which means that there is not very much impact on the some variables to the rating"
   ]
  },
  {
   "cell_type": "code",
   "execution_count": 19,
   "metadata": {},
   "outputs": [
    {
     "data": {
      "text/plain": [
       "<AxesSubplot:>"
      ]
     },
     "execution_count": 19,
     "metadata": {},
     "output_type": "execute_result"
    },
    {
     "data": {
      "image/png": "[encoded data removed]",
      "text/plain": [
       "<Figure size 432x288 with 2 Axes>"
      ]
     },
     "metadata": {},
     "output_type": "display_data"
    }
   ],
   "source": [
    "sns.heatmap(data = anime_df.corr())"
   ]
  },
  {
   "cell_type": "markdown",
   "metadata": {},
   "source": [
    "Visualization of the correlation of each non categorical variable which shows that the strongest correlation is the number of episodes that affect everything "
   ]
  },
  {
   "cell_type": "markdown",
   "metadata": {},
   "source": [
    "# Data Cleaning #\n",
    "There are unneeded variables and categories that can be removed as well as more context that can be extracted from the dataframe without visuals as well as the other dataframe"
   ]
  },
  {
   "cell_type": "code",
   "execution_count": 20,
   "metadata": {},
   "outputs": [
    {
     "data": {
      "text/html": [
       "<div>\n",
       "<style scoped>\n",
       "    .dataframe tbody tr th:only-of-type {\n",
       "        vertical-align: middle;\n",
       "    }\n",
       "\n",
       "    .dataframe tbody tr th {\n",
       "        vertical-align: top;\n",
       "    }\n",
       "\n",
       "    .dataframe thead th {\n",
       "        text-align: right;\n",
       "    }\n",
       "</style>\n",
       "<table border=\"1\" class=\"dataframe\">\n",
       "  <thead>\n",
       "    <tr style=\"text-align: right;\">\n",
       "      <th></th>\n",
       "      <th>anime_id</th>\n",
       "      <th>name</th>\n",
       "      <th>genre</th>\n",
       "      <th>type</th>\n",
       "      <th>episodes</th>\n",
       "      <th>rating</th>\n",
       "      <th>members</th>\n",
       "      <th>rating_rounded</th>\n",
       "      <th>length</th>\n",
       "      <th>popularity</th>\n",
       "    </tr>\n",
       "  </thead>\n",
       "  <tbody>\n",
       "    <tr>\n",
       "      <th>0</th>\n",
       "      <td>32281</td>\n",
       "      <td>Kimi no Na wa.</td>\n",
       "      <td>Drama, Romance, School, Supernatural</td>\n",
       "      <td>Movie</td>\n",
       "      <td>1.0</td>\n",
       "      <td>9.37</td>\n",
       "      <td>200630</td>\n",
       "      <td>9.0</td>\n",
       "      <td>movie/OVA</td>\n",
       "      <td>true</td>\n",
       "    </tr>\n",
       "    <tr>\n",
       "      <th>1</th>\n",
       "      <td>5114</td>\n",
       "      <td>Fullmetal Alchemist: Brotherhood</td>\n",
       "      <td>Action, Adventure, Drama, Fantasy, Magic, Mili...</td>\n",
       "      <td>TV</td>\n",
       "      <td>64.0</td>\n",
       "      <td>9.26</td>\n",
       "      <td>793665</td>\n",
       "      <td>9.0</td>\n",
       "      <td>extra long</td>\n",
       "      <td>true</td>\n",
       "    </tr>\n",
       "    <tr>\n",
       "      <th>2</th>\n",
       "      <td>28977</td>\n",
       "      <td>Gintama°</td>\n",
       "      <td>Action, Comedy, Historical, Parody, Samurai, S...</td>\n",
       "      <td>TV</td>\n",
       "      <td>51.0</td>\n",
       "      <td>9.25</td>\n",
       "      <td>114262</td>\n",
       "      <td>9.0</td>\n",
       "      <td>extra long</td>\n",
       "      <td>true</td>\n",
       "    </tr>\n",
       "    <tr>\n",
       "      <th>3</th>\n",
       "      <td>9253</td>\n",
       "      <td>Steins;Gate</td>\n",
       "      <td>Sci-Fi, Thriller</td>\n",
       "      <td>TV</td>\n",
       "      <td>24.0</td>\n",
       "      <td>9.17</td>\n",
       "      <td>673572</td>\n",
       "      <td>9.0</td>\n",
       "      <td>long</td>\n",
       "      <td>true</td>\n",
       "    </tr>\n",
       "    <tr>\n",
       "      <th>4</th>\n",
       "      <td>9969</td>\n",
       "      <td>Gintama&amp;#039;</td>\n",
       "      <td>Action, Comedy, Historical, Parody, Samurai, S...</td>\n",
       "      <td>TV</td>\n",
       "      <td>51.0</td>\n",
       "      <td>9.16</td>\n",
       "      <td>151266</td>\n",
       "      <td>9.0</td>\n",
       "      <td>extra long</td>\n",
       "      <td>true</td>\n",
       "    </tr>\n",
       "  </tbody>\n",
       "</table>\n",
       "</div>"
      ],
      "text/plain": [
       "   anime_id                              name  \\\n",
       "0     32281                    Kimi no Na wa.   \n",
       "1      5114  Fullmetal Alchemist: Brotherhood   \n",
       "2     28977                          Gintama°   \n",
       "3      9253                       Steins;Gate   \n",
       "4      9969                     Gintama&#039;   \n",
       "\n",
       "                                               genre   type  episodes  rating  \\\n",
       "0               Drama, Romance, School, Supernatural  Movie       1.0    9.37   \n",
       "1  Action, Adventure, Drama, Fantasy, Magic, Mili...     TV      64.0    9.26   \n",
       "2  Action, Comedy, Historical, Parody, Samurai, S...     TV      51.0    9.25   \n",
       "3                                   Sci-Fi, Thriller     TV      24.0    9.17   \n",
       "4  Action, Comedy, Historical, Parody, Samurai, S...     TV      51.0    9.16   \n",
       "\n",
       "   members  rating_rounded      length popularity  \n",
       "0   200630             9.0   movie/OVA       true  \n",
       "1   793665             9.0  extra long       true  \n",
       "2   114262             9.0  extra long       true  \n",
       "3   673572             9.0        long       true  \n",
       "4   151266             9.0  extra long       true  "
      ]
     },
     "execution_count": 20,
     "metadata": {},
     "output_type": "execute_result"
    }
   ],
   "source": [
    "anime_df.drop(anime_df[anime_df['type'] == ('Music', 'Special')].index, inplace = True)\n",
    "anime_df.head()"
   ]
  },
  {
   "cell_type": "code",
   "execution_count": 21,
   "metadata": {},
   "outputs": [
    {
     "data": {
      "text/plain": [
       "genre\n",
       "Action, Adventure, Drama, Fantasy, Magic, Military, Shounen     9.260000\n",
       "Drama, Romance, School, Supernatural                            9.221306\n",
       "Drama, Fantasy, Romance, Slice of Life, Supernatural            9.060000\n",
       "Drama, School, Shounen                                          9.050000\n",
       "Action, Comedy, Historical, Parody, Samurai, Sci-Fi, Shounen    9.042926\n",
       "                                                                  ...   \n",
       "Kids, Mecha                                                     3.260000\n",
       "Action, Adventure, Sci-Fi, Space, Super Power                   3.250000\n",
       "Dementia, Kids                                                  3.210000\n",
       "Comedy, Dementia, Fantasy, Horror, Music, Parody                2.550000\n",
       "Horror, Sci-Fi                                                  2.466348\n",
       "Length: 3229, dtype: float64"
      ]
     },
     "execution_count": 21,
     "metadata": {},
     "output_type": "execute_result"
    }
   ],
   "source": [
    "df_copy = anime_df.groupby('genre').apply(weighted_average, 'rating', 'members').sort_values(ascending = False)\n",
    "df_copy "
   ]
  },
  {
   "cell_type": "code",
   "execution_count": 22,
   "metadata": {},
   "outputs": [],
   "source": [
    "def genre_separator(element):\n",
    "    counts = {}\n",
    "    element = element.split(',')\n",
    "    for genre in element:\n",
    "        if genre not in counts:\n",
    "            counts[genre] = 1\n",
    "        else:\n",
    "            counts[genre] += 1\n",
    "    return counts"
   ]
  },
  {
   "cell_type": "code",
   "execution_count": 23,
   "metadata": {},
   "outputs": [
    {
     "data": {
      "text/plain": [
       "{'Drama': 974,\n",
       " ' Romance': 1344,\n",
       " ' School': 1134,\n",
       " ' Supernatural': 987,\n",
       " 'Action': 2768,\n",
       " ' Adventure': 871,\n",
       " ' Drama': 1003,\n",
       " ' Fantasy': 1758,\n",
       " ' Magic': 688,\n",
       " ' Military': 396,\n",
       " ' Shounen': 1635,\n",
       " ' Comedy': 1428,\n",
       " ' Historical': 629,\n",
       " ' Parody': 388,\n",
       " ' Samurai': 144,\n",
       " ' Sci-Fi': 1955,\n",
       " 'Sci-Fi': 81,\n",
       " ' Thriller': 85,\n",
       " 'Comedy': 3147,\n",
       " ' Sports': 491,\n",
       " ' Super Power': 450,\n",
       " ' Space': 376,\n",
       " ' Slice of Life': 1101,\n",
       " ' Mecha': 814,\n",
       " 'Adventure': 1445,\n",
       " ' Music': 450,\n",
       " ' Mystery': 414,\n",
       " ' Seinen': 522,\n",
       " 'Fantasy': 484,\n",
       " ' Martial Arts': 259,\n",
       " ' Vampire': 99,\n",
       " ' Shoujo': 581,\n",
       " ' Horror': 290,\n",
       " ' Police': 194,\n",
       " ' Psychological': 204,\n",
       " 'Mystery': 71,\n",
       " 'Psychological': 22,\n",
       " ' Demons': 203,\n",
       " 'Ecchi': 64,\n",
       " ' Josei': 49,\n",
       " 'Josei': 3,\n",
       " 'Military': 20,\n",
       " 'Romance': 93,\n",
       " ' Shounen Ai': 62,\n",
       " ' Game': 140,\n",
       " 'Demons': 84,\n",
       " ' Ecchi': 564,\n",
       " 'Dementia': 205,\n",
       " ' Harem': 272,\n",
       " 'Music': 392,\n",
       " 'Game': 37,\n",
       " ' Cars': 37,\n",
       " ' Dementia': 33,\n",
       " 'Cars': 35,\n",
       " 'Mecha': 115,\n",
       " 'Horror': 72,\n",
       " 'School': 42,\n",
       " ' Kids': 1204,\n",
       " 'Historical': 169,\n",
       " 'Kids': 394,\n",
       " ' Shoujo Ai': 54,\n",
       " 'Shounen': 49,\n",
       " 'Shoujo': 13,\n",
       " 'Magic': 59,\n",
       " 'Harem': 41,\n",
       " 'Martial Arts': 5,\n",
       " 'Sports': 42,\n",
       " 'Slice of Life': 103,\n",
       " 'Seinen': 10,\n",
       " 'Parody': 15,\n",
       " 'Police': 1,\n",
       " 'Thriller': 1,\n",
       " 'Supernatural': 14,\n",
       " 'Samurai': 2,\n",
       " 'Super Power': 1,\n",
       " 'Vampire': 1,\n",
       " 'Space': 1,\n",
       " 'Hentai': 940,\n",
       " ' Yaoi': 36,\n",
       " ' Hentai': 193,\n",
       " ' Yuri': 41,\n",
       " 'Yaoi': 2}"
      ]
     },
     "execution_count": 23,
     "metadata": {},
     "output_type": "execute_result"
    }
   ],
   "source": [
    "genre_counts = {}\n",
    "parse = anime_df['genre'].apply(lambda x: genre_separator(x))\n",
    "\n",
    "parse = parse.tolist()\n",
    "\n",
    "for dictionary in parse:\n",
    "    for key in dictionary:\n",
    "        if key not in genre_counts:\n",
    "            genre_counts[key] = dictionary[key]\n",
    "        else:\n",
    "            genre_counts[key] += dictionary[key]\n",
    "\n",
    "\n",
    "genre_counts"
   ]
  },
  {
   "cell_type": "code",
   "execution_count": 24,
   "metadata": {},
   "outputs": [
    {
     "data": {
      "image/png": "[encoded data removed]",
      "text/plain": [
       "<Figure size 1440x720 with 1 Axes>"
      ]
     },
     "metadata": {},
     "output_type": "display_data"
    }
   ],
   "source": [
    "genre_occur = pd.DataFrame(data = list(genre_counts.items()), columns = ['genre', 'count'])\n",
    "genre_occur\n",
    "\n",
    "figure(figsize = (20, 10))\n",
    "plot = sns.barplot(data = genre_occur, x = 'genre', y = 'count')\n",
    "plot.set(title = 'Number of Anime by Genre')\n",
    "plot.set_xticklabels(genre_occur['genre'], rotation = 90)\n",
    "plt.show()"
   ]
  },
  {
   "cell_type": "code",
   "execution_count": 25,
   "metadata": {},
   "outputs": [
    {
     "data": {
      "text/html": [
       "<div>\n",
       "<style scoped>\n",
       "    .dataframe tbody tr th:only-of-type {\n",
       "        vertical-align: middle;\n",
       "    }\n",
       "\n",
       "    .dataframe tbody tr th {\n",
       "        vertical-align: top;\n",
       "    }\n",
       "\n",
       "    .dataframe thead th {\n",
       "        text-align: right;\n",
       "    }\n",
       "</style>\n",
       "<table border=\"1\" class=\"dataframe\">\n",
       "  <thead>\n",
       "    <tr style=\"text-align: right;\">\n",
       "      <th></th>\n",
       "      <th>genre</th>\n",
       "      <th>count</th>\n",
       "      <th>average_rating</th>\n",
       "    </tr>\n",
       "  </thead>\n",
       "  <tbody>\n",
       "    <tr>\n",
       "      <th>0</th>\n",
       "      <td>Drama</td>\n",
       "      <td>974</td>\n",
       "      <td>7.903136</td>\n",
       "    </tr>\n",
       "    <tr>\n",
       "      <th>1</th>\n",
       "      <td>Romance</td>\n",
       "      <td>1344</td>\n",
       "      <td>7.650901</td>\n",
       "    </tr>\n",
       "    <tr>\n",
       "      <th>2</th>\n",
       "      <td>School</td>\n",
       "      <td>1134</td>\n",
       "      <td>7.665066</td>\n",
       "    </tr>\n",
       "    <tr>\n",
       "      <th>3</th>\n",
       "      <td>Supernatural</td>\n",
       "      <td>987</td>\n",
       "      <td>7.826794</td>\n",
       "    </tr>\n",
       "    <tr>\n",
       "      <th>4</th>\n",
       "      <td>Action</td>\n",
       "      <td>2768</td>\n",
       "      <td>7.739501</td>\n",
       "    </tr>\n",
       "    <tr>\n",
       "      <th>...</th>\n",
       "      <td>...</td>\n",
       "      <td>...</td>\n",
       "      <td>...</td>\n",
       "    </tr>\n",
       "    <tr>\n",
       "      <th>77</th>\n",
       "      <td>Hentai</td>\n",
       "      <td>940</td>\n",
       "      <td>6.558099</td>\n",
       "    </tr>\n",
       "    <tr>\n",
       "      <th>78</th>\n",
       "      <td>Yaoi</td>\n",
       "      <td>36</td>\n",
       "      <td>6.462542</td>\n",
       "    </tr>\n",
       "    <tr>\n",
       "      <th>79</th>\n",
       "      <td>Hentai</td>\n",
       "      <td>193</td>\n",
       "      <td>6.584938</td>\n",
       "    </tr>\n",
       "    <tr>\n",
       "      <th>80</th>\n",
       "      <td>Yuri</td>\n",
       "      <td>41</td>\n",
       "      <td>6.486908</td>\n",
       "    </tr>\n",
       "    <tr>\n",
       "      <th>81</th>\n",
       "      <td>Yaoi</td>\n",
       "      <td>2</td>\n",
       "      <td>6.446115</td>\n",
       "    </tr>\n",
       "  </tbody>\n",
       "</table>\n",
       "<p>82 rows × 3 columns</p>\n",
       "</div>"
      ],
      "text/plain": [
       "            genre  count  average_rating\n",
       "0           Drama    974        7.903136\n",
       "1         Romance   1344        7.650901\n",
       "2          School   1134        7.665066\n",
       "3    Supernatural    987        7.826794\n",
       "4          Action   2768        7.739501\n",
       "..            ...    ...             ...\n",
       "77         Hentai    940        6.558099\n",
       "78           Yaoi     36        6.462542\n",
       "79         Hentai    193        6.584938\n",
       "80           Yuri     41        6.486908\n",
       "81           Yaoi      2        6.446115\n",
       "\n",
       "[82 rows x 3 columns]"
      ]
     },
     "execution_count": 25,
     "metadata": {},
     "output_type": "execute_result"
    }
   ],
   "source": [
    "genre_occur['average_rating'] = 0\n",
    "for key in genre_counts:\n",
    "    parse = anime_df['genre'].apply(lambda x: key in x)\n",
    "    temp_df = anime_df[parse]\n",
    "    genre_occur.loc[genre_occur[genre_occur['genre'] == key].index, 'average_rating'] = weighted_average(temp_df, 'rating', 'members')\n",
    "\n",
    "genre_occur\n",
    "    \n"
   ]
  },
  {
   "cell_type": "code",
   "execution_count": 26,
   "metadata": {},
   "outputs": [
    {
     "data": {
      "image/png": "[encoded data removed]",
      "text/plain": [
       "<Figure size 1440x720 with 1 Axes>"
      ]
     },
     "metadata": {},
     "output_type": "display_data"
    }
   ],
   "source": [
    "figure(figsize = (20, 10))\n",
    "plot = sns.barplot(data = genre_occur, x = 'genre', y = 'average_rating')\n",
    "plot.set(title = 'Average Rating by Genre')\n",
    "plot.set_xticklabels(genre_occur['genre'], rotation = 90)\n",
    "plt.show()"
   ]
  },
  {
   "cell_type": "markdown",
   "metadata": {},
   "source": [
    "Since the categories are not split properly, there is no clear line between the genres and the rating, but drama and shounen tend to be the highest rated anime"
   ]
  },
  {
   "cell_type": "code",
   "execution_count": 27,
   "metadata": {},
   "outputs": [
    {
     "data": {
      "text/plain": [
       "length\n",
       "long          8.026480\n",
       "extra long    7.986514\n",
       "movie/OVA     7.565946\n",
       "seasonal      7.496495\n",
       "dtype: float64"
      ]
     },
     "execution_count": 27,
     "metadata": {},
     "output_type": "execute_result"
    }
   ],
   "source": [
    "df_copy = anime_df.groupby('length').apply(weighted_average, 'rating', 'members').sort_values(ascending = False)\n",
    "df_copy "
   ]
  },
  {
   "cell_type": "markdown",
   "metadata": {},
   "source": [
    "The average rating by length is around the same across the board which means that there is not a strong correlation between rating and length"
   ]
  },
  {
   "cell_type": "code",
   "execution_count": 28,
   "metadata": {},
   "outputs": [
    {
     "data": {
      "text/plain": [
       "type\n",
       "Movie      7.847446\n",
       "TV         7.753406\n",
       "Special    7.306274\n",
       "OVA        7.220818\n",
       "ONA        7.013586\n",
       "Music      6.992603\n",
       "dtype: float64"
      ]
     },
     "execution_count": 28,
     "metadata": {},
     "output_type": "execute_result"
    }
   ],
   "source": [
    "df_copy = anime_df.groupby('type').apply(weighted_average, 'rating', 'members').sort_values(ascending = False)\n",
    "df_copy "
   ]
  },
  {
   "cell_type": "markdown",
   "metadata": {},
   "source": [
    "ame point with type, but since movies have a higher production value, they tend to have higher ratings on average"
   ]
  },
  {
   "cell_type": "code",
   "execution_count": 29,
   "metadata": {},
   "outputs": [
    {
     "name": "stdout",
     "output_type": "stream",
     "text": [
      "<class 'pandas.core.frame.DataFrame'>\n",
      "RangeIndex: 7813737 entries, 0 to 7813736\n",
      "Data columns (total 3 columns):\n",
      " #   Column    Dtype\n",
      "---  ------    -----\n",
      " 0   user_id   int64\n",
      " 1   anime_id  int64\n",
      " 2   rating    int64\n",
      "dtypes: int64(3)\n",
      "memory usage: 178.8 MB\n"
     ]
    }
   ],
   "source": [
    "user_df.info()"
   ]
  },
  {
   "cell_type": "markdown",
   "metadata": {},
   "source": [
    "# Trimming #\n",
    "\n",
    "Here we trim down the user dataframe since the file is so big that there is a chance of a memory failure and the runtime will also be long if the memory doesn't fail, so we first remove all the rows with rating = -1 which means that they did not rate it, then we calculate the threshold of the amount of anime ratings a user has done to consider them active or not"
   ]
  },
  {
   "cell_type": "code",
   "execution_count": 30,
   "metadata": {},
   "outputs": [
    {
     "data": {
      "text/html": [
       "<div>\n",
       "<style scoped>\n",
       "    .dataframe tbody tr th:only-of-type {\n",
       "        vertical-align: middle;\n",
       "    }\n",
       "\n",
       "    .dataframe tbody tr th {\n",
       "        vertical-align: top;\n",
       "    }\n",
       "\n",
       "    .dataframe thead th {\n",
       "        text-align: right;\n",
       "    }\n",
       "</style>\n",
       "<table border=\"1\" class=\"dataframe\">\n",
       "  <thead>\n",
       "    <tr style=\"text-align: right;\">\n",
       "      <th></th>\n",
       "      <th>user_id</th>\n",
       "      <th>anime_id</th>\n",
       "      <th>rating</th>\n",
       "    </tr>\n",
       "  </thead>\n",
       "  <tbody>\n",
       "    <tr>\n",
       "      <th>47</th>\n",
       "      <td>1</td>\n",
       "      <td>8074</td>\n",
       "      <td>10</td>\n",
       "    </tr>\n",
       "    <tr>\n",
       "      <th>81</th>\n",
       "      <td>1</td>\n",
       "      <td>11617</td>\n",
       "      <td>10</td>\n",
       "    </tr>\n",
       "    <tr>\n",
       "      <th>83</th>\n",
       "      <td>1</td>\n",
       "      <td>11757</td>\n",
       "      <td>10</td>\n",
       "    </tr>\n",
       "    <tr>\n",
       "      <th>101</th>\n",
       "      <td>1</td>\n",
       "      <td>15451</td>\n",
       "      <td>10</td>\n",
       "    </tr>\n",
       "    <tr>\n",
       "      <th>153</th>\n",
       "      <td>2</td>\n",
       "      <td>11771</td>\n",
       "      <td>10</td>\n",
       "    </tr>\n",
       "  </tbody>\n",
       "</table>\n",
       "</div>"
      ],
      "text/plain": [
       "     user_id  anime_id  rating\n",
       "47         1      8074      10\n",
       "81         1     11617      10\n",
       "83         1     11757      10\n",
       "101        1     15451      10\n",
       "153        2     11771      10"
      ]
     },
     "execution_count": 30,
     "metadata": {},
     "output_type": "execute_result"
    }
   ],
   "source": [
    "user_df.drop(user_df[user_df['rating'] == -1].index, inplace=True)\n",
    "user_df.head()"
   ]
  },
  {
   "cell_type": "code",
   "execution_count": 31,
   "metadata": {},
   "outputs": [
    {
     "name": "stdout",
     "output_type": "stream",
     "text": [
      "Minimum user times of review 95.0\n",
      "Minimum anime reviews 254.0\n"
     ]
    }
   ],
   "source": [
    "parameters = ['count', 'mean']\n",
    "\n",
    "user_df_summary = user_df.groupby('user_id')['rating'].agg(parameters)\n",
    "user_df_summary.index = user_df_summary.index.map(int)\n",
    "user_benchmark = round(user_df_summary['count'].quantile(0.7), 0)\n",
    "user_drop_list = user_df_summary[user_df_summary['count'] < user_benchmark].index\n",
    "\n",
    "anime_df_summary = user_df.groupby('anime_id')['rating'].agg(parameters)\n",
    "anime_df_summary.index = anime_df_summary.index.map(int)\n",
    "anime_benchmark = round(anime_df_summary['count'].quantile(0.7), 0)\n",
    "anime_drop_list = anime_df_summary[anime_df_summary['count'] < anime_benchmark].index\n",
    "\n",
    "\n",
    "print(f'Minimum user times of review {user_benchmark}')\n",
    "print(f'Minimum anime reviews {anime_benchmark}')"
   ]
  },
  {
   "cell_type": "code",
   "execution_count": 32,
   "metadata": {},
   "outputs": [
    {
     "name": "stdout",
     "output_type": "stream",
     "text": [
      "user_df original shape: (6337241, 3)\n",
      "user_df new shape: (4856518, 3)\n",
      "anime_df original shape: (12017, 10)\n",
      "anime_df new shape: (5111, 10)\n"
     ]
    }
   ],
   "source": [
    "print(f'user_df original shape: {user_df.shape}')\n",
    "user_df = user_df[~user_df['user_id'].isin(user_drop_list)]\n",
    "print(f'user_df new shape: {user_df.shape}')\n",
    "\n",
    "print(f'anime_df original shape: {anime_df.shape}')\n",
    "anime_df = anime_df[~anime_df['anime_id'].isin(anime_drop_list)]\n",
    "print(f'anime_df new shape: {anime_df.shape}')"
   ]
  },
  {
   "cell_type": "markdown",
   "metadata": {},
   "source": [
    "We create a pivot table in order to summarize the data more easily and for it to help us with creating the model later on"
   ]
  },
  {
   "cell_type": "code",
   "execution_count": 75,
   "metadata": {},
   "outputs": [
    {
     "data": {
      "text/html": [
       "<div>\n",
       "<style scoped>\n",
       "    .dataframe tbody tr th:only-of-type {\n",
       "        vertical-align: middle;\n",
       "    }\n",
       "\n",
       "    .dataframe tbody tr th {\n",
       "        vertical-align: top;\n",
       "    }\n",
       "\n",
       "    .dataframe thead th {\n",
       "        text-align: right;\n",
       "    }\n",
       "</style>\n",
       "<table border=\"1\" class=\"dataframe\">\n",
       "  <thead>\n",
       "    <tr style=\"text-align: right;\">\n",
       "      <th>anime_id</th>\n",
       "      <th>1</th>\n",
       "      <th>5</th>\n",
       "      <th>6</th>\n",
       "      <th>7</th>\n",
       "      <th>8</th>\n",
       "      <th>15</th>\n",
       "      <th>16</th>\n",
       "      <th>17</th>\n",
       "      <th>18</th>\n",
       "      <th>19</th>\n",
       "      <th>...</th>\n",
       "      <th>34238</th>\n",
       "      <th>34239</th>\n",
       "      <th>34240</th>\n",
       "      <th>34252</th>\n",
       "      <th>34283</th>\n",
       "      <th>34324</th>\n",
       "      <th>34325</th>\n",
       "      <th>34349</th>\n",
       "      <th>34367</th>\n",
       "      <th>34475</th>\n",
       "    </tr>\n",
       "    <tr>\n",
       "      <th>user_id</th>\n",
       "      <th></th>\n",
       "      <th></th>\n",
       "      <th></th>\n",
       "      <th></th>\n",
       "      <th></th>\n",
       "      <th></th>\n",
       "      <th></th>\n",
       "      <th></th>\n",
       "      <th></th>\n",
       "      <th></th>\n",
       "      <th></th>\n",
       "      <th></th>\n",
       "      <th></th>\n",
       "      <th></th>\n",
       "      <th></th>\n",
       "      <th></th>\n",
       "      <th></th>\n",
       "      <th></th>\n",
       "      <th></th>\n",
       "      <th></th>\n",
       "      <th></th>\n",
       "    </tr>\n",
       "  </thead>\n",
       "  <tbody>\n",
       "    <tr>\n",
       "      <th>5</th>\n",
       "      <td>NaN</td>\n",
       "      <td>NaN</td>\n",
       "      <td>8.0</td>\n",
       "      <td>NaN</td>\n",
       "      <td>NaN</td>\n",
       "      <td>6.0</td>\n",
       "      <td>NaN</td>\n",
       "      <td>6.0</td>\n",
       "      <td>6.0</td>\n",
       "      <td>NaN</td>\n",
       "      <td>...</td>\n",
       "      <td>NaN</td>\n",
       "      <td>NaN</td>\n",
       "      <td>NaN</td>\n",
       "      <td>NaN</td>\n",
       "      <td>NaN</td>\n",
       "      <td>NaN</td>\n",
       "      <td>NaN</td>\n",
       "      <td>NaN</td>\n",
       "      <td>NaN</td>\n",
       "      <td>NaN</td>\n",
       "    </tr>\n",
       "    <tr>\n",
       "      <th>7</th>\n",
       "      <td>NaN</td>\n",
       "      <td>NaN</td>\n",
       "      <td>NaN</td>\n",
       "      <td>NaN</td>\n",
       "      <td>NaN</td>\n",
       "      <td>NaN</td>\n",
       "      <td>NaN</td>\n",
       "      <td>NaN</td>\n",
       "      <td>NaN</td>\n",
       "      <td>NaN</td>\n",
       "      <td>...</td>\n",
       "      <td>NaN</td>\n",
       "      <td>NaN</td>\n",
       "      <td>NaN</td>\n",
       "      <td>NaN</td>\n",
       "      <td>NaN</td>\n",
       "      <td>NaN</td>\n",
       "      <td>NaN</td>\n",
       "      <td>NaN</td>\n",
       "      <td>NaN</td>\n",
       "      <td>NaN</td>\n",
       "    </tr>\n",
       "    <tr>\n",
       "      <th>11</th>\n",
       "      <td>NaN</td>\n",
       "      <td>NaN</td>\n",
       "      <td>NaN</td>\n",
       "      <td>NaN</td>\n",
       "      <td>NaN</td>\n",
       "      <td>NaN</td>\n",
       "      <td>NaN</td>\n",
       "      <td>NaN</td>\n",
       "      <td>NaN</td>\n",
       "      <td>NaN</td>\n",
       "      <td>...</td>\n",
       "      <td>NaN</td>\n",
       "      <td>NaN</td>\n",
       "      <td>NaN</td>\n",
       "      <td>NaN</td>\n",
       "      <td>NaN</td>\n",
       "      <td>NaN</td>\n",
       "      <td>NaN</td>\n",
       "      <td>NaN</td>\n",
       "      <td>NaN</td>\n",
       "      <td>NaN</td>\n",
       "    </tr>\n",
       "    <tr>\n",
       "      <th>14</th>\n",
       "      <td>NaN</td>\n",
       "      <td>NaN</td>\n",
       "      <td>NaN</td>\n",
       "      <td>NaN</td>\n",
       "      <td>NaN</td>\n",
       "      <td>NaN</td>\n",
       "      <td>NaN</td>\n",
       "      <td>NaN</td>\n",
       "      <td>NaN</td>\n",
       "      <td>NaN</td>\n",
       "      <td>...</td>\n",
       "      <td>NaN</td>\n",
       "      <td>NaN</td>\n",
       "      <td>NaN</td>\n",
       "      <td>NaN</td>\n",
       "      <td>NaN</td>\n",
       "      <td>NaN</td>\n",
       "      <td>NaN</td>\n",
       "      <td>NaN</td>\n",
       "      <td>NaN</td>\n",
       "      <td>NaN</td>\n",
       "    </tr>\n",
       "    <tr>\n",
       "      <th>17</th>\n",
       "      <td>NaN</td>\n",
       "      <td>NaN</td>\n",
       "      <td>7.0</td>\n",
       "      <td>NaN</td>\n",
       "      <td>NaN</td>\n",
       "      <td>NaN</td>\n",
       "      <td>NaN</td>\n",
       "      <td>NaN</td>\n",
       "      <td>NaN</td>\n",
       "      <td>10.0</td>\n",
       "      <td>...</td>\n",
       "      <td>NaN</td>\n",
       "      <td>NaN</td>\n",
       "      <td>8.0</td>\n",
       "      <td>NaN</td>\n",
       "      <td>NaN</td>\n",
       "      <td>NaN</td>\n",
       "      <td>NaN</td>\n",
       "      <td>NaN</td>\n",
       "      <td>NaN</td>\n",
       "      <td>NaN</td>\n",
       "    </tr>\n",
       "    <tr>\n",
       "      <th>...</th>\n",
       "      <td>...</td>\n",
       "      <td>...</td>\n",
       "      <td>...</td>\n",
       "      <td>...</td>\n",
       "      <td>...</td>\n",
       "      <td>...</td>\n",
       "      <td>...</td>\n",
       "      <td>...</td>\n",
       "      <td>...</td>\n",
       "      <td>...</td>\n",
       "      <td>...</td>\n",
       "      <td>...</td>\n",
       "      <td>...</td>\n",
       "      <td>...</td>\n",
       "      <td>...</td>\n",
       "      <td>...</td>\n",
       "      <td>...</td>\n",
       "      <td>...</td>\n",
       "      <td>...</td>\n",
       "      <td>...</td>\n",
       "      <td>...</td>\n",
       "    </tr>\n",
       "    <tr>\n",
       "      <th>73503</th>\n",
       "      <td>9.0</td>\n",
       "      <td>7.0</td>\n",
       "      <td>9.0</td>\n",
       "      <td>NaN</td>\n",
       "      <td>NaN</td>\n",
       "      <td>NaN</td>\n",
       "      <td>NaN</td>\n",
       "      <td>NaN</td>\n",
       "      <td>NaN</td>\n",
       "      <td>NaN</td>\n",
       "      <td>...</td>\n",
       "      <td>NaN</td>\n",
       "      <td>NaN</td>\n",
       "      <td>NaN</td>\n",
       "      <td>NaN</td>\n",
       "      <td>NaN</td>\n",
       "      <td>NaN</td>\n",
       "      <td>NaN</td>\n",
       "      <td>NaN</td>\n",
       "      <td>NaN</td>\n",
       "      <td>NaN</td>\n",
       "    </tr>\n",
       "    <tr>\n",
       "      <th>73504</th>\n",
       "      <td>10.0</td>\n",
       "      <td>10.0</td>\n",
       "      <td>9.0</td>\n",
       "      <td>7.0</td>\n",
       "      <td>NaN</td>\n",
       "      <td>NaN</td>\n",
       "      <td>NaN</td>\n",
       "      <td>NaN</td>\n",
       "      <td>NaN</td>\n",
       "      <td>NaN</td>\n",
       "      <td>...</td>\n",
       "      <td>NaN</td>\n",
       "      <td>NaN</td>\n",
       "      <td>NaN</td>\n",
       "      <td>NaN</td>\n",
       "      <td>NaN</td>\n",
       "      <td>NaN</td>\n",
       "      <td>NaN</td>\n",
       "      <td>NaN</td>\n",
       "      <td>NaN</td>\n",
       "      <td>NaN</td>\n",
       "    </tr>\n",
       "    <tr>\n",
       "      <th>73507</th>\n",
       "      <td>9.0</td>\n",
       "      <td>8.0</td>\n",
       "      <td>9.0</td>\n",
       "      <td>NaN</td>\n",
       "      <td>NaN</td>\n",
       "      <td>NaN</td>\n",
       "      <td>NaN</td>\n",
       "      <td>NaN</td>\n",
       "      <td>NaN</td>\n",
       "      <td>NaN</td>\n",
       "      <td>...</td>\n",
       "      <td>NaN</td>\n",
       "      <td>NaN</td>\n",
       "      <td>NaN</td>\n",
       "      <td>NaN</td>\n",
       "      <td>NaN</td>\n",
       "      <td>NaN</td>\n",
       "      <td>NaN</td>\n",
       "      <td>NaN</td>\n",
       "      <td>NaN</td>\n",
       "      <td>NaN</td>\n",
       "    </tr>\n",
       "    <tr>\n",
       "      <th>73510</th>\n",
       "      <td>NaN</td>\n",
       "      <td>NaN</td>\n",
       "      <td>NaN</td>\n",
       "      <td>NaN</td>\n",
       "      <td>NaN</td>\n",
       "      <td>NaN</td>\n",
       "      <td>NaN</td>\n",
       "      <td>NaN</td>\n",
       "      <td>NaN</td>\n",
       "      <td>NaN</td>\n",
       "      <td>...</td>\n",
       "      <td>NaN</td>\n",
       "      <td>NaN</td>\n",
       "      <td>NaN</td>\n",
       "      <td>NaN</td>\n",
       "      <td>NaN</td>\n",
       "      <td>NaN</td>\n",
       "      <td>NaN</td>\n",
       "      <td>NaN</td>\n",
       "      <td>NaN</td>\n",
       "      <td>NaN</td>\n",
       "    </tr>\n",
       "    <tr>\n",
       "      <th>73515</th>\n",
       "      <td>10.0</td>\n",
       "      <td>10.0</td>\n",
       "      <td>10.0</td>\n",
       "      <td>NaN</td>\n",
       "      <td>NaN</td>\n",
       "      <td>NaN</td>\n",
       "      <td>NaN</td>\n",
       "      <td>NaN</td>\n",
       "      <td>NaN</td>\n",
       "      <td>9.0</td>\n",
       "      <td>...</td>\n",
       "      <td>NaN</td>\n",
       "      <td>NaN</td>\n",
       "      <td>NaN</td>\n",
       "      <td>NaN</td>\n",
       "      <td>NaN</td>\n",
       "      <td>NaN</td>\n",
       "      <td>NaN</td>\n",
       "      <td>NaN</td>\n",
       "      <td>NaN</td>\n",
       "      <td>NaN</td>\n",
       "    </tr>\n",
       "  </tbody>\n",
       "</table>\n",
       "<p>20913 rows × 9893 columns</p>\n",
       "</div>"
      ],
      "text/plain": [
       "anime_id  1      5      6      7      8      15     16     17     18     \\\n",
       "user_id                                                                   \n",
       "5           NaN    NaN    8.0    NaN    NaN    6.0    NaN    6.0    6.0   \n",
       "7           NaN    NaN    NaN    NaN    NaN    NaN    NaN    NaN    NaN   \n",
       "11          NaN    NaN    NaN    NaN    NaN    NaN    NaN    NaN    NaN   \n",
       "14          NaN    NaN    NaN    NaN    NaN    NaN    NaN    NaN    NaN   \n",
       "17          NaN    NaN    7.0    NaN    NaN    NaN    NaN    NaN    NaN   \n",
       "...         ...    ...    ...    ...    ...    ...    ...    ...    ...   \n",
       "73503       9.0    7.0    9.0    NaN    NaN    NaN    NaN    NaN    NaN   \n",
       "73504      10.0   10.0    9.0    7.0    NaN    NaN    NaN    NaN    NaN   \n",
       "73507       9.0    8.0    9.0    NaN    NaN    NaN    NaN    NaN    NaN   \n",
       "73510       NaN    NaN    NaN    NaN    NaN    NaN    NaN    NaN    NaN   \n",
       "73515      10.0   10.0   10.0    NaN    NaN    NaN    NaN    NaN    NaN   \n",
       "\n",
       "anime_id  19     ...  34238  34239  34240  34252  34283  34324  34325  34349  \\\n",
       "user_id          ...                                                           \n",
       "5           NaN  ...    NaN    NaN    NaN    NaN    NaN    NaN    NaN    NaN   \n",
       "7           NaN  ...    NaN    NaN    NaN    NaN    NaN    NaN    NaN    NaN   \n",
       "11          NaN  ...    NaN    NaN    NaN    NaN    NaN    NaN    NaN    NaN   \n",
       "14          NaN  ...    NaN    NaN    NaN    NaN    NaN    NaN    NaN    NaN   \n",
       "17         10.0  ...    NaN    NaN    8.0    NaN    NaN    NaN    NaN    NaN   \n",
       "...         ...  ...    ...    ...    ...    ...    ...    ...    ...    ...   \n",
       "73503       NaN  ...    NaN    NaN    NaN    NaN    NaN    NaN    NaN    NaN   \n",
       "73504       NaN  ...    NaN    NaN    NaN    NaN    NaN    NaN    NaN    NaN   \n",
       "73507       NaN  ...    NaN    NaN    NaN    NaN    NaN    NaN    NaN    NaN   \n",
       "73510       NaN  ...    NaN    NaN    NaN    NaN    NaN    NaN    NaN    NaN   \n",
       "73515       9.0  ...    NaN    NaN    NaN    NaN    NaN    NaN    NaN    NaN   \n",
       "\n",
       "anime_id  34367  34475  \n",
       "user_id                 \n",
       "5           NaN    NaN  \n",
       "7           NaN    NaN  \n",
       "11          NaN    NaN  \n",
       "14          NaN    NaN  \n",
       "17          NaN    NaN  \n",
       "...         ...    ...  \n",
       "73503       NaN    NaN  \n",
       "73504       NaN    NaN  \n",
       "73507       NaN    NaN  \n",
       "73510       NaN    NaN  \n",
       "73515       NaN    NaN  \n",
       "\n",
       "[20913 rows x 9893 columns]"
      ]
     },
     "execution_count": 75,
     "metadata": {},
     "output_type": "execute_result"
    }
   ],
   "source": [
    "anime_df_pivot = pd.pivot(user_df, values = 'rating', index = 'user_id', columns = 'anime_id')\n",
    "anime_df_pivot"
   ]
  },
  {
   "cell_type": "code",
   "execution_count": 34,
   "metadata": {},
   "outputs": [
    {
     "data": {
      "text/html": [
       "<div>\n",
       "<style scoped>\n",
       "    .dataframe tbody tr th:only-of-type {\n",
       "        vertical-align: middle;\n",
       "    }\n",
       "\n",
       "    .dataframe tbody tr th {\n",
       "        vertical-align: top;\n",
       "    }\n",
       "\n",
       "    .dataframe thead th {\n",
       "        text-align: right;\n",
       "    }\n",
       "</style>\n",
       "<table border=\"1\" class=\"dataframe\">\n",
       "  <thead>\n",
       "    <tr style=\"text-align: right;\">\n",
       "      <th></th>\n",
       "      <th>user_id</th>\n",
       "      <th>anime_id</th>\n",
       "      <th>rating</th>\n",
       "    </tr>\n",
       "  </thead>\n",
       "  <tbody>\n",
       "    <tr>\n",
       "      <th>302</th>\n",
       "      <td>5</td>\n",
       "      <td>6</td>\n",
       "      <td>8</td>\n",
       "    </tr>\n",
       "    <tr>\n",
       "      <th>303</th>\n",
       "      <td>5</td>\n",
       "      <td>15</td>\n",
       "      <td>6</td>\n",
       "    </tr>\n",
       "    <tr>\n",
       "      <th>304</th>\n",
       "      <td>5</td>\n",
       "      <td>17</td>\n",
       "      <td>6</td>\n",
       "    </tr>\n",
       "    <tr>\n",
       "      <th>305</th>\n",
       "      <td>5</td>\n",
       "      <td>18</td>\n",
       "      <td>6</td>\n",
       "    </tr>\n",
       "    <tr>\n",
       "      <th>306</th>\n",
       "      <td>5</td>\n",
       "      <td>20</td>\n",
       "      <td>6</td>\n",
       "    </tr>\n",
       "    <tr>\n",
       "      <th>...</th>\n",
       "      <td>...</td>\n",
       "      <td>...</td>\n",
       "      <td>...</td>\n",
       "    </tr>\n",
       "    <tr>\n",
       "      <th>7813730</th>\n",
       "      <td>73515</td>\n",
       "      <td>13659</td>\n",
       "      <td>8</td>\n",
       "    </tr>\n",
       "    <tr>\n",
       "      <th>7813731</th>\n",
       "      <td>73515</td>\n",
       "      <td>14345</td>\n",
       "      <td>7</td>\n",
       "    </tr>\n",
       "    <tr>\n",
       "      <th>7813732</th>\n",
       "      <td>73515</td>\n",
       "      <td>16512</td>\n",
       "      <td>7</td>\n",
       "    </tr>\n",
       "    <tr>\n",
       "      <th>7813733</th>\n",
       "      <td>73515</td>\n",
       "      <td>17187</td>\n",
       "      <td>9</td>\n",
       "    </tr>\n",
       "    <tr>\n",
       "      <th>7813734</th>\n",
       "      <td>73515</td>\n",
       "      <td>22145</td>\n",
       "      <td>10</td>\n",
       "    </tr>\n",
       "  </tbody>\n",
       "</table>\n",
       "<p>4856518 rows × 3 columns</p>\n",
       "</div>"
      ],
      "text/plain": [
       "         user_id  anime_id  rating\n",
       "302            5         6       8\n",
       "303            5        15       6\n",
       "304            5        17       6\n",
       "305            5        18       6\n",
       "306            5        20       6\n",
       "...          ...       ...     ...\n",
       "7813730    73515     13659       8\n",
       "7813731    73515     14345       7\n",
       "7813732    73515     16512       7\n",
       "7813733    73515     17187       9\n",
       "7813734    73515     22145      10\n",
       "\n",
       "[4856518 rows x 3 columns]"
      ]
     },
     "execution_count": 34,
     "metadata": {},
     "output_type": "execute_result"
    }
   ],
   "source": [
    "user_df"
   ]
  },
  {
   "cell_type": "markdown",
   "metadata": {},
   "source": [
    "# Modeling #\n",
    "Here, we will load data for a specific user id, and use that data in order to create a model based on the specific user's preferences and likes. The model used is SVD and pearson's R which will automatically give a list of recommendations of shows to watch based on the previously known data"
   ]
  },
  {
   "cell_type": "code",
   "execution_count": 35,
   "metadata": {},
   "outputs": [
    {
     "data": {
      "text/plain": [
       "{'test_rmse': array([3.11670905, 3.11341398, 3.11295235, 3.11429851, 3.11264701]),\n",
       " 'test_mae': array([2.80323205, 2.80135185, 2.79957899, 2.80169316, 2.79922422]),\n",
       " 'fit_time': (210.43974423408508,\n",
       "  217.63609409332275,\n",
       "  202.92668056488037,\n",
       "  201.5159080028534,\n",
       "  206.2245864868164),\n",
       " 'test_time': (16.23135232925415,\n",
       "  10.4194815158844,\n",
       "  13.655983924865723,\n",
       "  10.737346410751343,\n",
       "  10.838460683822632)}"
      ]
     },
     "execution_count": 35,
     "metadata": {},
     "output_type": "execute_result"
    }
   ],
   "source": [
    "from surprise import Reader, Dataset, SVD\n",
    "from surprise.model_selection import cross_validate\n",
    "\n",
    "reader = Reader()\n",
    "\n",
    "dataset = Dataset.load_from_df(user_df[['user_id', 'anime_id', 'rating']], reader)\n",
    "\n",
    "svd = SVD()\n",
    "cross_validate(svd, dataset, measures=['RMSE', 'MAE'])\n",
    "\n"
   ]
  },
  {
   "cell_type": "markdown",
   "metadata": {},
   "source": [
    "Here we will load the preferences of user 66789 and create a model based on that user, anything beyond this point can be used with whatever user id that exists"
   ]
  },
  {
   "cell_type": "code",
   "execution_count": 36,
   "metadata": {},
   "outputs": [
    {
     "data": {
      "text/plain": [
       "anime_id\n",
       "1                         Fullmetal Alchemist: Brotherhood\n",
       "18                            Ookami Kodomo no Ame to Yuki\n",
       "20                                          Hajime no Ippo\n",
       "24                                           Mononoke Hime\n",
       "33                     Mushishi Zoku Shou: Suzu no Shizuku\n",
       "43                                               Haikyuu!!\n",
       "47                                 Ping Pong The Animation\n",
       "57       Ano Hi Mita Hana no Namae wo Bokutachi wa Mada...\n",
       "67                              Kiseijuu: Sei no Kakuritsu\n",
       "93                                           Chihayafuru 2\n",
       "94                                               Fate/Zero\n",
       "121                      Kino no Tabi: The Beautiful World\n",
       "134                                        Owarimonogatari\n",
       "170                                 Tenkuu no Shiro Laputa\n",
       "185                           Danshi Koukousei no Nichijou\n",
       "186                                       Kotonoha no Niwa\n",
       "187      Kyoukai no Kanata Movie: I&#039;ll Be Here - M...\n",
       "223                                                Clannad\n",
       "225                                            Summer Wars\n",
       "256                                    Hibike! Euphonium 2\n",
       "263                                 Initial D Fourth Stage\n",
       "329                                 Sekaiichi Hatsukoi OVA\n",
       "338                              Kimi ni Todoke 2nd Season\n",
       "356                                                  Touch\n",
       "392                                ef: A Tale of Memories.\n",
       "431              Prince of Tennis: The National Tournament\n",
       "512                                      Carnival Phantasm\n",
       "513                                      D.Gray-man Hallow\n",
       "517                                  Hidamari Sketch x ☆☆☆\n",
       "523                                            City Hunter\n",
       "552                                          White Album 2\n",
       "558                        Jungle wa Itsumo Hare nochi Guu\n",
       "572                                             Baby Steps\n",
       "578               Mobile Suit Gundam: Iron-Blooded Orphans\n",
       "813                         Hidamari Sketch x 365 Specials\n",
       "846                                                 Blood+\n",
       "874                                Poyopoyo Kansatsu Nikki\n",
       "986                                      Shakugan no Shana\n",
       "1138                                            Heroic Age\n",
       "1313     Kiniro no Corda: Primo Passo - Hitonatsu no En...\n",
       "1650                                         Air in Summer\n",
       "1689                                    Tales of the Abyss\n",
       "1723                                             Sabagebu!\n",
       "1818                              Hori-san to Miyamura-kun\n",
       "2034     Detective Conan OVA 05: The Target is Kogoro! ...\n",
       "2167                                               Tactics\n",
       "2581                   JoJo no Kimyou na Bouken: Adventure\n",
       "4052                                        Berserk (2016)\n",
       "4059                              Dragonaut: The Resonance\n",
       "4181                                Bayonetta: Bloody Fate\n",
       "6171                     Gunslinger Stratos: The Animation\n",
       "8074                                    A Smart Experiment\n",
       "9890                              Otanoshimi Anime Gekijou\n",
       "9999                   Pom Pom Purin no Kitakaze to Taiyou\n",
       "10218                                  Shin Dokonjou Gaeru\n",
       "Name: name, dtype: object"
      ]
     },
     "execution_count": 36,
     "metadata": {},
     "output_type": "execute_result"
    }
   ],
   "source": [
    "df_66789 = user_df[(user_df['user_id'] == 66789) & (user_df['rating'] >= 7)]\n",
    "\n",
    "df_66789 = df_66789.set_index('anime_id')\n",
    "df_66789 = df_66789.join(anime_df, lsuffix = '_user', rsuffix = '_mal')['name']\n",
    "df_66789.dropna(inplace=True)\n",
    "df_66789"
   ]
  },
  {
   "cell_type": "markdown",
   "metadata": {},
   "source": [
    "Here we fit the model, since we fit with a 2 million row dataframe, the runtime will be slow\n",
    "WARNING: 16 MIN RUNTIME ON A 12 CORE SYSTEM"
   ]
  },
  {
   "cell_type": "code",
   "execution_count": 37,
   "metadata": {},
   "outputs": [
    {
     "data": {
      "text/plain": [
       "<surprise.prediction_algorithms.matrix_factorization.SVD at 0x1cbc90e0ac0>"
      ]
     },
     "execution_count": 37,
     "metadata": {},
     "output_type": "execute_result"
    }
   ],
   "source": [
    "user_66789  = anime_df.copy()\n",
    "user_66789 = user_66789.reset_index()\n",
    "user_66789 = user_66789[~user_66789['anime_id'].isin(anime_drop_list)]\n",
    "\n",
    "combined_data = dataset\n",
    "\n",
    "training_set = combined_data.build_full_trainset()\n",
    "svd.fit(training_set)"
   ]
  },
  {
   "cell_type": "code",
   "execution_count": 38,
   "metadata": {},
   "outputs": [
    {
     "data": {
      "text/html": [
       "<div>\n",
       "<style scoped>\n",
       "    .dataframe tbody tr th:only-of-type {\n",
       "        vertical-align: middle;\n",
       "    }\n",
       "\n",
       "    .dataframe tbody tr th {\n",
       "        vertical-align: top;\n",
       "    }\n",
       "\n",
       "    .dataframe thead th {\n",
       "        text-align: right;\n",
       "    }\n",
       "</style>\n",
       "<table border=\"1\" class=\"dataframe\">\n",
       "  <thead>\n",
       "    <tr style=\"text-align: right;\">\n",
       "      <th></th>\n",
       "      <th>name</th>\n",
       "      <th>genre</th>\n",
       "      <th>type</th>\n",
       "      <th>episodes</th>\n",
       "      <th>rating</th>\n",
       "      <th>members</th>\n",
       "      <th>rating_rounded</th>\n",
       "      <th>length</th>\n",
       "      <th>popularity</th>\n",
       "      <th>score</th>\n",
       "    </tr>\n",
       "  </thead>\n",
       "  <tbody>\n",
       "    <tr>\n",
       "      <th>38</th>\n",
       "      <td>Death Note</td>\n",
       "      <td>Mystery, Police, Psychological, Supernatural, ...</td>\n",
       "      <td>TV</td>\n",
       "      <td>37.0</td>\n",
       "      <td>8.71</td>\n",
       "      <td>1013917</td>\n",
       "      <td>9.0</td>\n",
       "      <td>extra long</td>\n",
       "      <td>true</td>\n",
       "      <td>5.0</td>\n",
       "    </tr>\n",
       "    <tr>\n",
       "      <th>82</th>\n",
       "      <td>Shingeki no Kyojin</td>\n",
       "      <td>Action, Drama, Fantasy, Shounen, Super Power</td>\n",
       "      <td>TV</td>\n",
       "      <td>25.0</td>\n",
       "      <td>8.54</td>\n",
       "      <td>896229</td>\n",
       "      <td>9.0</td>\n",
       "      <td>long</td>\n",
       "      <td>true</td>\n",
       "      <td>5.0</td>\n",
       "    </tr>\n",
       "    <tr>\n",
       "      <th>712</th>\n",
       "      <td>Sword Art Online</td>\n",
       "      <td>Action, Adventure, Fantasy, Game, Romance</td>\n",
       "      <td>TV</td>\n",
       "      <td>25.0</td>\n",
       "      <td>7.83</td>\n",
       "      <td>893100</td>\n",
       "      <td>8.0</td>\n",
       "      <td>long</td>\n",
       "      <td>true</td>\n",
       "      <td>5.0</td>\n",
       "    </tr>\n",
       "    <tr>\n",
       "      <th>1</th>\n",
       "      <td>Fullmetal Alchemist: Brotherhood</td>\n",
       "      <td>Action, Adventure, Drama, Fantasy, Magic, Mili...</td>\n",
       "      <td>TV</td>\n",
       "      <td>64.0</td>\n",
       "      <td>9.26</td>\n",
       "      <td>793665</td>\n",
       "      <td>9.0</td>\n",
       "      <td>extra long</td>\n",
       "      <td>true</td>\n",
       "      <td>5.0</td>\n",
       "    </tr>\n",
       "    <tr>\n",
       "      <th>154</th>\n",
       "      <td>Angel Beats!</td>\n",
       "      <td>Action, Comedy, Drama, School, Supernatural</td>\n",
       "      <td>TV</td>\n",
       "      <td>13.0</td>\n",
       "      <td>8.39</td>\n",
       "      <td>717796</td>\n",
       "      <td>8.0</td>\n",
       "      <td>seasonal</td>\n",
       "      <td>true</td>\n",
       "      <td>5.0</td>\n",
       "    </tr>\n",
       "  </tbody>\n",
       "</table>\n",
       "</div>"
      ],
      "text/plain": [
       "                                 name  \\\n",
       "38                         Death Note   \n",
       "82                 Shingeki no Kyojin   \n",
       "712                  Sword Art Online   \n",
       "1    Fullmetal Alchemist: Brotherhood   \n",
       "154                      Angel Beats!   \n",
       "\n",
       "                                                 genre type  episodes  rating  \\\n",
       "38   Mystery, Police, Psychological, Supernatural, ...   TV      37.0    8.71   \n",
       "82        Action, Drama, Fantasy, Shounen, Super Power   TV      25.0    8.54   \n",
       "712          Action, Adventure, Fantasy, Game, Romance   TV      25.0    7.83   \n",
       "1    Action, Adventure, Drama, Fantasy, Magic, Mili...   TV      64.0    9.26   \n",
       "154        Action, Comedy, Drama, School, Supernatural   TV      13.0    8.39   \n",
       "\n",
       "     members  rating_rounded      length popularity  score  \n",
       "38   1013917             9.0  extra long       true    5.0  \n",
       "82    896229             9.0        long       true    5.0  \n",
       "712   893100             8.0        long       true    5.0  \n",
       "1     793665             9.0  extra long       true    5.0  \n",
       "154   717796             8.0    seasonal       true    5.0  "
      ]
     },
     "execution_count": 38,
     "metadata": {},
     "output_type": "execute_result"
    }
   ],
   "source": [
    "user_66789['score'] = user_66789['anime_id'].apply(lambda x: svd.predict(66789, x).est)\n",
    "\n",
    "user_66789 = user_66789.drop(['anime_id', 'index'], axis = 1)\n",
    "\n",
    "user_66789 = user_66789.sort_values('members', ascending = False)\n",
    "user_66789.head()"
   ]
  },
  {
   "cell_type": "markdown",
   "metadata": {},
   "source": [
    "These cells use a pearson's R coefficient modeling which is another collaborative filtering model that will load preferences based on a pearsonR score that represents the correlation between 2 shows to see if it is a good fit for the user"
   ]
  },
  {
   "cell_type": "code",
   "execution_count": 57,
   "metadata": {},
   "outputs": [],
   "source": [
    "def recommendation(title, min_count):\n",
    "    index = int(anime_df.index[anime_df['name'] == title][0])\n",
    "\n",
    "    target = anime_df_pivot[index]\n",
    "    similarity = anime_df_pivot.corrwith(target)\n",
    "\n",
    "    corr_t = pd.DataFrame(similarity, columns = ['PearsonR'])    corr_t.dropna(inplace = True)\n",
    "    corr_t = corr_t.sort_values('PearsonR', ascending = False)\n",
    "    corr_t.index = corr_t.index.map(int)\n",
    "    corr_t = corr_t.join(anime_df).join(anime_df_summary)[['PearsonR', 'name', 'count', 'mean']]\n",
    "    print(f'--Recommendations based on {title}--')\n",
    "    print(corr_t[(corr_t['count'] > min_count) & (~corr_t['name'].isnull())][:15].to_string(index = False))\n",
    "\n",
    "\n"
   ]
  },
  {
   "cell_type": "code",
   "execution_count": 58,
   "metadata": {},
   "outputs": [
    {
     "name": "stderr",
     "output_type": "stream",
     "text": [
      "C:\\Users\\nnath\\AppData\\Local\\Programs\\Python\\Python310\\lib\\site-packages\\numpy\\lib\\function_base.py:2683: RuntimeWarning: Degrees of freedom <= 0 for slice\n",
      "  c = cov(x, y, rowvar, dtype=dtype)\n",
      "C:\\Users\\nnath\\AppData\\Local\\Programs\\Python\\Python310\\lib\\site-packages\\numpy\\lib\\function_base.py:2542: RuntimeWarning: divide by zero encountered in true_divide\n",
      "  c *= np.true_divide(1, fact)\n"
     ]
    },
    {
     "name": "stdout",
     "output_type": "stream",
     "text": [
      "--Recommendations based on 91 Days--\n",
      " PearsonR                                                     name  count     mean\n",
      " 0.702516                                      Hoozuki no Reitetsu   1102 8.302178\n",
      " 0.701268                               Mahou Shoujo Madoka★Magica   1337 7.691847\n",
      " 0.696673                                                 Kamichu!   1213 7.183842\n",
      " 0.677109                                                HeatGuy J   1250 6.883200\n",
      " 0.672820 Detective Conan Movie 17: Private Eye in the Distant Sea   1259 8.062748\n",
      " 0.653003                            Diamond no Ace: Second Season   1381 7.498190\n",
      " 0.647051                                               Tokyo 2164   1375 7.215273\n",
      " 0.643462                  Taka no Tsume 8: Yoshida-kun no X-Files   1321 7.570780\n",
      " 0.643418                                               GetBackers   1043 8.237776\n",
      " 0.631048             Sore Ike! Anpanman: Tsumiki Shiro no Himitsu   1467 7.689162\n",
      " 0.625661                                               Texhnolyze   2272 7.576144\n",
      " 0.624853                                               Happy Jozy   1913 7.723994\n",
      " 0.620889                                       Grappler Baki (TV)   1877 6.807139\n",
      " 0.615825                                       Hakuouki Sekkaroku   1094 8.064899\n",
      " 0.613773                                               Rescue Me!   1295 7.840154\n"
     ]
    }
   ],
   "source": [
    "recommendation('91 Days', 1000)"
   ]
  },
  {
   "cell_type": "code",
   "execution_count": 59,
   "metadata": {},
   "outputs": [
    {
     "name": "stderr",
     "output_type": "stream",
     "text": [
      "C:\\Users\\nnath\\AppData\\Local\\Programs\\Python\\Python310\\lib\\site-packages\\numpy\\lib\\function_base.py:2683: RuntimeWarning: Degrees of freedom <= 0 for slice\n",
      "  c = cov(x, y, rowvar, dtype=dtype)\n",
      "C:\\Users\\nnath\\AppData\\Local\\Programs\\Python\\Python310\\lib\\site-packages\\numpy\\lib\\function_base.py:2542: RuntimeWarning: divide by zero encountered in true_divide\n",
      "  c *= np.true_divide(1, fact)\n"
     ]
    },
    {
     "name": "stdout",
     "output_type": "stream",
     "text": [
      "--Recommendations based on Tokyo Ghoul--\n",
      " PearsonR                                                                                   name  count     mean\n",
      " 1.000000                                                                            Tokyo Ghoul   2245 7.650780\n",
      " 0.787882                                                                         Azumanga Daioh   2406 7.724439\n",
      " 0.782668                                                                    Yume-iro Pâtissière   2304 7.980035\n",
      " 0.780600                                                                    Usagi Drop Specials   2558 7.823299\n",
      " 0.697320                                                Saint Seiya: Meiou Hades Juuni Kyuu-hen   7603 8.040247\n",
      " 0.624728                                                            Uchuu Shounen Soran (Movie)   1416 7.507062\n",
      " 0.607536                                                           Kyoukai no Kanata: Shinonome   1198 7.041736\n",
      " 0.579972                                                                               Bokurano   1560 7.476282\n",
      " 0.572656                                   Saikin, Imouto no Yousu ga Chotto Okashiinda ga. OVA   1204 7.237542\n",
      " 0.563708                                                                                 Orange   2395 6.903967\n",
      " 0.556810                               Detective Conan Movie 17: Private Eye in the Distant Sea   1259 8.062748\n",
      " 0.550335                                                                   Shinigami no Ballad.   2161 7.625174\n",
      " 0.549712                                                               Rakudai Kishi no Cavalry   2393 7.210614\n",
      " 0.547285                                                                        Boku wa Ou-sama   3781 7.838667\n",
      " 0.546994 One Piece: Episode of Sabo - 3 Kyoudai no Kizuna Kiseki no Saikai to Uketsugareru Ishi   2728 7.043622\n"
     ]
    }
   ],
   "source": [
    "recommendation('Tokyo Ghoul', 1000)"
   ]
  },
  {
   "cell_type": "code",
   "execution_count": 60,
   "metadata": {},
   "outputs": [
    {
     "name": "stderr",
     "output_type": "stream",
     "text": [
      "C:\\Users\\nnath\\AppData\\Local\\Programs\\Python\\Python310\\lib\\site-packages\\numpy\\lib\\function_base.py:2683: RuntimeWarning: Degrees of freedom <= 0 for slice\n",
      "  c = cov(x, y, rowvar, dtype=dtype)\n",
      "C:\\Users\\nnath\\AppData\\Local\\Programs\\Python\\Python310\\lib\\site-packages\\numpy\\lib\\function_base.py:2542: RuntimeWarning: divide by zero encountered in true_divide\n",
      "  c *= np.true_divide(1, fact)\n"
     ]
    },
    {
     "name": "stdout",
     "output_type": "stream",
     "text": [
      "--Recommendations based on Konjiki no Gash Bell!!--\n",
      " PearsonR                                                                     name  count     mean\n",
      " 0.942809                                                           Sakura no Ondo   1416 7.963983\n",
      " 0.891056                                                               GetBackers   1043 8.237776\n",
      " 0.821584                                                             Tokyo Ravens   1353 7.162602\n",
      " 0.810093                                                        Arashi no Yoru ni   1018 7.154224\n",
      " 0.800364                                      Qin Shiming Yue Zhi: Junlin Tianxia   2585 8.242166\n",
      " 0.797940                                              Hiiro no Kakera Dai Ni Shou   1104 7.072464\n",
      " 0.782308                                                         Robby to Kerobby   1766 6.776897\n",
      " 0.760726                                    Peach Command Shin Momotarou Densetsu   3109 6.796076\n",
      " 0.728578                                             Kyoukai no Kanata: Shinonome   1198 7.041736\n",
      " 0.719301                                     Panty &amp; Stocking with Garterbelt   1663 7.267589\n",
      " 0.704998 Slam Dunk: Hoero Basketman-damashii! Hanamichi to Rukawa no Atsuki Natsu   2556 7.178795\n",
      " 0.677115                                                           Iketeru Futari   1342 7.163934\n",
      " 0.675382                                      JoJo no Kimyou na Bouken: Adventure   4393 8.375825\n",
      " 0.672493                                                          Nagi no Asukara   2595 7.990751\n",
      " 0.670820                                                 Rakudai Kishi no Cavalry   2393 7.210614\n"
     ]
    }
   ],
   "source": [
    "recommendation('Konjiki no Gash Bell!!', 1000)"
   ]
  },
  {
   "cell_type": "code",
   "execution_count": 64,
   "metadata": {},
   "outputs": [
    {
     "name": "stderr",
     "output_type": "stream",
     "text": [
      "C:\\Users\\nnath\\AppData\\Local\\Programs\\Python\\Python310\\lib\\site-packages\\numpy\\lib\\function_base.py:2683: RuntimeWarning: Degrees of freedom <= 0 for slice\n",
      "  c = cov(x, y, rowvar, dtype=dtype)\n",
      "C:\\Users\\nnath\\AppData\\Local\\Programs\\Python\\Python310\\lib\\site-packages\\numpy\\lib\\function_base.py:2542: RuntimeWarning: divide by zero encountered in true_divide\n",
      "  c *= np.true_divide(1, fact)\n"
     ]
    },
    {
     "name": "stdout",
     "output_type": "stream",
     "text": [
      "--Recommendations based on Fullmetal Alchemist: Brotherhood--\n",
      " PearsonR                                                                         name  count     mean\n",
      " 1.000000                                             Fullmetal Alchemist: Brotherhood  13449 8.869433\n",
      " 0.561158                    Haikyuu!!: Karasuno Koukou VS Shiratorizawa Gakuen Koukou   5790 8.439724\n",
      " 0.342475                                                                    Haikyuu!!   7485 8.305945\n",
      " 0.329705                                                       Ouran Koukou Host Club  13679 8.807077\n",
      " 0.322020                      Code Geass: Boukoku no Akito 2 - Hikisakareshi Yokuryuu   1730 8.282081\n",
      " 0.315074                           Detective Conan Movie 14: The Lost Ship in the Sky  11118 8.107483\n",
      " 0.314993                                                               Bakemonogatari   1250 7.901600\n",
      " 0.311537                                                       Hunter x Hunter (2011)   9385 8.419393\n",
      " 0.309657                                                      Ping Pong The Animation   8296 8.145251\n",
      " 0.306819                                             Layton Kyouju to Eien no Utahime   1135 8.186784\n",
      " 0.306501                                                                   Soul Eater   1320 8.331818\n",
      " 0.297115                                         Mahou Shoujo Lyrical Nanoha A&#039;s   3006 8.018297\n",
      " 0.296562                                     Mobile Suit Gundam: Iron-Blooded Orphans   6664 8.634154\n",
      " 0.292194                                           Nogizaka Haruka no Himitsu: Finale   5756 8.200313\n",
      " 0.290768 Sengoku Basara: Setonai no Gekitotsu! Hi wo Fuku Umi no Daiyousai - Fugaku!!   9710 8.660659\n"
     ]
    }
   ],
   "source": [
    "recommendation('Fullmetal Alchemist: Brotherhood', 1000)"
   ]
  },
  {
   "cell_type": "code",
   "execution_count": 76,
   "metadata": {},
   "outputs": [
    {
     "name": "stderr",
     "output_type": "stream",
     "text": [
      "C:\\Users\\nnath\\AppData\\Local\\Programs\\Python\\Python310\\lib\\site-packages\\numpy\\lib\\function_base.py:2683: RuntimeWarning: Degrees of freedom <= 0 for slice\n",
      "  c = cov(x, y, rowvar, dtype=dtype)\n",
      "C:\\Users\\nnath\\AppData\\Local\\Programs\\Python\\Python310\\lib\\site-packages\\numpy\\lib\\function_base.py:2542: RuntimeWarning: divide by zero encountered in true_divide\n",
      "  c *= np.true_divide(1, fact)\n"
     ]
    },
    {
     "name": "stdout",
     "output_type": "stream",
     "text": [
      "--Recommendations based on Clannad--\n",
      " PearsonR                                                                                   name  count     mean\n",
      " 1.000000                                                                                Clannad  11696 8.169716\n",
      " 0.711571                                                         Hidamari Sketch x 365 Specials  14211 8.314967\n",
      " 0.573559                                                                      Minami-ke Tadaima   1112 7.366007\n",
      " 0.566722                                                          Zoku Sayonara Zetsubou Sensei   1363 7.090242\n",
      " 0.560871                                                                             Texhnolyze   2272 7.576144\n",
      " 0.558972                                                                       Momo e no Tegami   2790 6.989606\n",
      " 0.549859                                                           Kyoukai no Kanata: Shinonome   1198 7.041736\n",
      " 0.546877                                                                     Nurarihyon no Mago   2562 6.953552\n",
      " 0.539117                                                      Tenchi Muyou! Ryououki 2nd Season   2575 7.770874\n",
      " 0.537204                                                                      Shakugan no Shana   2310 7.736364\n",
      " 0.536610 One Piece: Episode of Sabo - 3 Kyoudai no Kizuna Kiseki no Saikai to Uketsugareru Ishi   2728 7.043622\n",
      " 0.531065                                                                             Over Drive   2789 7.277160\n",
      " 0.530699                                                               Rakudai Kishi no Cavalry   2393 7.210614\n",
      " 0.521859                                                                       Ranma ½ Specials   3051 7.696821\n",
      " 0.520194                                                                 Rozen Maiden: Träumend   2324 7.400172\n"
     ]
    }
   ],
   "source": [
    "recommendation('Clannad', 1000)"
   ]
  }
 ],
 "metadata": {
  "interpreter": {
   "hash": "056fdb5c503ca450e829a2401da3ae8ad6bac397dcfbdbcb1a560289c743c7e5"
  },
  "kernelspec": {
   "display_name": "Python 3.10.0 64-bit",
   "language": "python",
   "name": "python3"
  },
  "language_info": {
   "codemirror_mode": {
    "name": "ipython",
    "version": 3
   },
   "file_extension": ".py",
   "mimetype": "text/x-python",
   "name": "python",
   "nbconvert_exporter": "python",
   "pygments_lexer": "ipython3",
   "version": "3.10.0"
  },
  "orig_nbformat": 4
 },
 "nbformat": 4,
 "nbformat_minor": 2
}
