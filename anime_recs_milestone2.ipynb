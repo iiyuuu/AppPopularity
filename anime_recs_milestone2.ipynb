{
 "cells": [
  {
   "cell_type": "markdown",
   "metadata": {},
   "source": [
    "# Modeling #\n",
    "Here, we will load data for a specific user id, and use that data in order to create a model based on the specific user's preferences and likes. The model used is SVD and pearson's R which will automatically give a list of recommendations of shows to watch based on the previously known data"
   ]
  },
  {
   "cell_type": "code",
   "execution_count": null,
   "metadata": {},
   "outputs": [
    {
     "data": {
      "text/plain": [
       "{'test_rmse': array([3.11409094, 3.11588406, 3.11269079, 3.11478178, 3.11256255]),\n",
       " 'test_mae': array([2.80129082, 2.80346401, 2.79941106, 2.80086403, 2.79984092]),\n",
       " 'fit_time': (225.01878213882446,\n",
       "  223.42327976226807,\n",
       "  248.03472208976746,\n",
       "  255.4715497493744,\n",
       "  253.52299976348877),\n",
       " 'test_time': (17.800500869750977,\n",
       "  16.295000076293945,\n",
       "  15.787002563476562,\n",
       "  18.506999492645264,\n",
       "  21.80700397491455)}"
      ]
     },
     "execution_count": 171,
     "metadata": {},
     "output_type": "execute_result"
    }
   ],
   "source": [
    "from surprise import Reader, Dataset, SVD\n",
    "from surprise.model_selection import cross_validate\n",
    "\n",
    "reader = Reader()\n",
    "\n",
    "dataset = Dataset.load_from_df(user_df[['user_id', 'anime_id', 'rating']], reader)\n",
    "\n",
    "svd = SVD()\n",
    "cross_validate(svd, dataset, measures=['RMSE', 'MAE'])\n",
    "\n"
   ]
  },
  {
   "cell_type": "markdown",
   "metadata": {},
   "source": [
    "Here we will load the preferences of user 66789 and create a model based on that user, anything beyond this point can be used with whatever user id that exists"
   ]
  },
  {
   "cell_type": "code",
   "execution_count": null,
   "metadata": {},
   "outputs": [
    {
     "data": {
      "text/plain": [
       "anime_id\n",
       "1                         Fullmetal Alchemist: Brotherhood\n",
       "18                            Ookami Kodomo no Ame to Yuki\n",
       "20                                          Hajime no Ippo\n",
       "24                                           Mononoke Hime\n",
       "33                     Mushishi Zoku Shou: Suzu no Shizuku\n",
       "43                                               Haikyuu!!\n",
       "47                                 Ping Pong The Animation\n",
       "57       Ano Hi Mita Hana no Namae wo Bokutachi wa Mada...\n",
       "67                              Kiseijuu: Sei no Kakuritsu\n",
       "93                                           Chihayafuru 2\n",
       "94                                               Fate/Zero\n",
       "121                      Kino no Tabi: The Beautiful World\n",
       "134                                        Owarimonogatari\n",
       "170                                 Tenkuu no Shiro Laputa\n",
       "185                           Danshi Koukousei no Nichijou\n",
       "186                                       Kotonoha no Niwa\n",
       "187      Kyoukai no Kanata Movie: I&#039;ll Be Here - M...\n",
       "223                                                Clannad\n",
       "225                                            Summer Wars\n",
       "256                                    Hibike! Euphonium 2\n",
       "263                                 Initial D Fourth Stage\n",
       "329                                 Sekaiichi Hatsukoi OVA\n",
       "338                              Kimi ni Todoke 2nd Season\n",
       "356                                                  Touch\n",
       "392                                ef: A Tale of Memories.\n",
       "431              Prince of Tennis: The National Tournament\n",
       "512                                      Carnival Phantasm\n",
       "513                                      D.Gray-man Hallow\n",
       "517                                  Hidamari Sketch x ☆☆☆\n",
       "523                                            City Hunter\n",
       "552                                          White Album 2\n",
       "558                        Jungle wa Itsumo Hare nochi Guu\n",
       "572                                             Baby Steps\n",
       "578               Mobile Suit Gundam: Iron-Blooded Orphans\n",
       "813                         Hidamari Sketch x 365 Specials\n",
       "846                                                 Blood+\n",
       "874                                Poyopoyo Kansatsu Nikki\n",
       "986                                      Shakugan no Shana\n",
       "1138                                            Heroic Age\n",
       "1313     Kiniro no Corda: Primo Passo - Hitonatsu no En...\n",
       "1650                                         Air in Summer\n",
       "1689                                    Tales of the Abyss\n",
       "1723                                             Sabagebu!\n",
       "1818                              Hori-san to Miyamura-kun\n",
       "2034     Detective Conan OVA 05: The Target is Kogoro! ...\n",
       "2167                                               Tactics\n",
       "2581                   JoJo no Kimyou na Bouken: Adventure\n",
       "4052                                        Berserk (2016)\n",
       "4059                              Dragonaut: The Resonance\n",
       "4181                                Bayonetta: Bloody Fate\n",
       "6171                     Gunslinger Stratos: The Animation\n",
       "8074                                    A Smart Experiment\n",
       "9890                              Otanoshimi Anime Gekijou\n",
       "9999                   Pom Pom Purin no Kitakaze to Taiyou\n",
       "10218                                  Shin Dokonjou Gaeru\n",
       "Name: name, dtype: object"
      ]
     },
     "execution_count": 284,
     "metadata": {},
     "output_type": "execute_result"
    }
   ],
   "source": [
    "df_66789 = user_df[(user_df['user_id'] == 66789) & (user_df['rating'] >= 7)]\n",
    "\n",
    "df_66789 = df_66789.set_index('anime_id')\n",
    "df_66789 = df_66789.join(anime_df, lsuffix = '_user', rsuffix = '_mal')['name']\n",
    "df_66789.dropna(inplace=True)\n",
    "df_66789"
   ]
  },
  {
   "cell_type": "markdown",
   "metadata": {},
   "source": [
    "Here we fit the model, since we fit with a 2 million row dataframe, the runtime will be slow\n",
    "WARNING: 16 MIN RUNTIME ON A 12 CORE SYSTEM"
   ]
  },
  {
   "cell_type": "code",
   "execution_count": null,
   "metadata": {},
   "outputs": [
    {
     "data": {
      "text/plain": [
       "<surprise.prediction_algorithms.matrix_factorization.SVD at 0x1b60c2e96f0>"
      ]
     },
     "execution_count": 286,
     "metadata": {},
     "output_type": "execute_result"
    }
   ],
   "source": [
    "user_66789  = anime_df.copy()\n",
    "user_66789 = user_66789.reset_index()\n",
    "user_66789 = user_66789[~user_66789['anime_id'].isin(anime_drop_list)]\n",
    "\n",
    "combined_data = dataset\n",
    "\n",
    "training_set = combined_data.build_full_trainset()\n",
    "svd.fit(training_set)"
   ]
  },
  {
   "cell_type": "code",
   "execution_count": null,
   "metadata": {},
   "outputs": [
    {
     "data": {
      "text/html": [
       "<div>\n",
       "<style scoped>\n",
       "    .dataframe tbody tr th:only-of-type {\n",
       "        vertical-align: middle;\n",
       "    }\n",
       "\n",
       "    .dataframe tbody tr th {\n",
       "        vertical-align: top;\n",
       "    }\n",
       "\n",
       "    .dataframe thead th {\n",
       "        text-align: right;\n",
       "    }\n",
       "</style>\n",
       "<table border=\"1\" class=\"dataframe\">\n",
       "  <thead>\n",
       "    <tr style=\"text-align: right;\">\n",
       "      <th></th>\n",
       "      <th>name</th>\n",
       "      <th>genre</th>\n",
       "      <th>type</th>\n",
       "      <th>episodes</th>\n",
       "      <th>rating</th>\n",
       "      <th>members</th>\n",
       "      <th>rating_rounded</th>\n",
       "      <th>length</th>\n",
       "      <th>popularity</th>\n",
       "      <th>score</th>\n",
       "    </tr>\n",
       "  </thead>\n",
       "  <tbody>\n",
       "    <tr>\n",
       "      <th>4728</th>\n",
       "      <td>Taka no Tsume 8: Yoshida-kun no X-Files</td>\n",
       "      <td>Comedy, Parody</td>\n",
       "      <td>Movie</td>\n",
       "      <td>1.0</td>\n",
       "      <td>10.00</td>\n",
       "      <td>13</td>\n",
       "      <td>10.0</td>\n",
       "      <td>movie/OVA</td>\n",
       "      <td>false</td>\n",
       "      <td>5.0</td>\n",
       "    </tr>\n",
       "    <tr>\n",
       "      <th>4686</th>\n",
       "      <td>Spoon-hime no Swing Kitchen</td>\n",
       "      <td>Adventure, Kids</td>\n",
       "      <td>TV</td>\n",
       "      <td>NaN</td>\n",
       "      <td>9.60</td>\n",
       "      <td>47</td>\n",
       "      <td>10.0</td>\n",
       "      <td>NaN</td>\n",
       "      <td>false</td>\n",
       "      <td>5.0</td>\n",
       "    </tr>\n",
       "    <tr>\n",
       "      <th>4122</th>\n",
       "      <td>Mogura no Motoro</td>\n",
       "      <td>Slice of Life</td>\n",
       "      <td>Movie</td>\n",
       "      <td>1.0</td>\n",
       "      <td>9.50</td>\n",
       "      <td>62</td>\n",
       "      <td>10.0</td>\n",
       "      <td>movie/OVA</td>\n",
       "      <td>false</td>\n",
       "      <td>5.0</td>\n",
       "    </tr>\n",
       "    <tr>\n",
       "      <th>0</th>\n",
       "      <td>Kimi no Na wa.</td>\n",
       "      <td>Drama, Romance, School, Supernatural</td>\n",
       "      <td>Movie</td>\n",
       "      <td>1.0</td>\n",
       "      <td>9.37</td>\n",
       "      <td>200630</td>\n",
       "      <td>9.0</td>\n",
       "      <td>movie/OVA</td>\n",
       "      <td>true</td>\n",
       "      <td>5.0</td>\n",
       "    </tr>\n",
       "    <tr>\n",
       "      <th>3777</th>\n",
       "      <td>Kahei no Umi</td>\n",
       "      <td>Historical</td>\n",
       "      <td>Movie</td>\n",
       "      <td>1.0</td>\n",
       "      <td>9.33</td>\n",
       "      <td>44</td>\n",
       "      <td>9.0</td>\n",
       "      <td>movie/OVA</td>\n",
       "      <td>false</td>\n",
       "      <td>5.0</td>\n",
       "    </tr>\n",
       "  </tbody>\n",
       "</table>\n",
       "</div>"
      ],
      "text/plain": [
       "                                         name  \\\n",
       "4728  Taka no Tsume 8: Yoshida-kun no X-Files   \n",
       "4686              Spoon-hime no Swing Kitchen   \n",
       "4122                         Mogura no Motoro   \n",
       "0                              Kimi no Na wa.   \n",
       "3777                             Kahei no Umi   \n",
       "\n",
       "                                     genre   type  episodes  rating  members  \\\n",
       "4728                        Comedy, Parody  Movie       1.0   10.00       13   \n",
       "4686                       Adventure, Kids     TV       NaN    9.60       47   \n",
       "4122                         Slice of Life  Movie       1.0    9.50       62   \n",
       "0     Drama, Romance, School, Supernatural  Movie       1.0    9.37   200630   \n",
       "3777                            Historical  Movie       1.0    9.33       44   \n",
       "\n",
       "      rating_rounded     length popularity  score  \n",
       "4728            10.0  movie/OVA      false    5.0  \n",
       "4686            10.0        NaN      false    5.0  \n",
       "4122            10.0  movie/OVA      false    5.0  \n",
       "0                9.0  movie/OVA       true    5.0  \n",
       "3777             9.0  movie/OVA      false    5.0  "
      ]
     },
     "execution_count": 287,
     "metadata": {},
     "output_type": "execute_result"
    }
   ],
   "source": [
    "user_66789['score'] = user_66789['anime_id'].apply(lambda x: svd.predict(66789, x).est)\n",
    "\n",
    "user_66789 = user_66789.drop(['anime_id', 'index'], axis = 1)\n",
    "\n",
    "user_66789 = user_66789.sort_values('members', ascending = False)\n",
    "user_66789.head()"
   ]
  },
  {
   "cell_type": "markdown",
   "metadata": {},
   "source": [
    "These cells use a pearson's R coefficient modeling which is another collaborative filtering model that will load preferences based on a pearsonR score that represents the correlation between 2 shows to see if it is a good fit for the user"
   ]
  },
  {
   "cell_type": "code",
   "execution_count": null,
   "metadata": {},
   "outputs": [],
   "source": [
    "def recommendation(title, min_count):\n",
    "    index = int(anime_df.index[anime_df['name'] == title][0])\n",
    "\n",
    "    target = anime_df_pivot[index]\n",
    "    similarity = anime_df_pivot.corrwith(target)\n",
    "\n",
    "    corr_t = pd.DataFrame(similarity, columns = ['PearsonR'])\n",
    "    corr_t.dropna(inplace = True)\n",
    "    corr_t = corr_t.sort_values('PearsonR', ascending = False)\n",
    "    corr_t.index = corr_t.index.map(int)\n",
    "    corr_t = corr_t.join(anime_df).join(anime_df_summary)[['PearsonR', 'name', 'count', 'mean']]\n",
    "    print(f'--Recommendations based on {title}--')\n",
    "    print(corr_t[(corr_t['count'] > min_count) & (~corr_t['name'].isnull())][:15].to_string(index = False))\n",
    "\n",
    "\n"
   ]
  },
  {
   "cell_type": "code",
   "execution_count": null,
   "metadata": {},
   "outputs": [
    {
     "name": "stderr",
     "output_type": "stream",
     "text": [
      "C:\\Users\\nnath\\AppData\\Local\\Programs\\Python\\Python310\\lib\\site-packages\\numpy\\lib\\function_base.py:2683: RuntimeWarning: Degrees of freedom <= 0 for slice\n",
      "  c = cov(x, y, rowvar, dtype=dtype)\n",
      "C:\\Users\\nnath\\AppData\\Local\\Programs\\Python\\Python310\\lib\\site-packages\\numpy\\lib\\function_base.py:2542: RuntimeWarning: divide by zero encountered in true_divide\n",
      "  c *= np.true_divide(1, fact)\n"
     ]
    },
    {
     "name": "stdout",
     "output_type": "stream",
     "text": [
      "--Recommendations based on 91 Days--\n",
      " PearsonR                                               name  count     mean\n",
      "      1.0                               Xiyue Qi Tong (2006)     11 5.909091\n",
      "      1.0 Little Busters!: Sekai no Saitou wa Ore ga Mamoru!     94 6.510638\n",
      "      1.0                                     Kanon Kazahana     27 7.629630\n",
      "      1.0                                     Hiyokoi (2012)     25 7.600000\n",
      "      1.0                       Bokusatsu Tenshi Dokuro-chan     24 4.958333\n",
      "      1.0              Kono Danshi, Uchuujin to Tatakaemasu.     11 5.272727\n",
      "      1.0                            Mobile Fighter G Gundam     27 7.555556\n",
      "      1.0                                    Kiko-chan Smile     15 5.533333\n",
      "      1.0                         Rinne no Lagrange Season 2     17 6.764706\n",
      "      1.0                              Kamen no Maid Guy OVA     29 5.620690\n",
      "      1.0             Cardfight!! Vanguard: Asia Circuit-hen     41 5.195122\n",
      "      1.0                           Manga Nihonshi (NHK Han)     60 6.216667\n",
      "      1.0                                   Video Ranger 007     72 6.000000\n",
      "      1.0                                           Domo-kun     53 7.471698\n",
      "      1.0                                  Wanghu Sim Cheong     37 5.945946\n"
     ]
    }
   ],
   "source": [
    "recommendation('91 Days', 1000)"
   ]
  }
 ],
 "metadata": {
  "interpreter": {
   "hash": "056fdb5c503ca450e829a2401da3ae8ad6bac397dcfbdbcb1a560289c743c7e5"
  },
  "kernelspec": {
   "display_name": "Python 3.10.0 64-bit",
   "language": "python",
   "name": "python3"
  },
  "language_info": {
   "codemirror_mode": {
    "name": "ipython",
    "version": 3
   },
   "file_extension": ".py",
   "mimetype": "text/x-python",
   "name": "python",
   "nbconvert_exporter": "python",
   "pygments_lexer": "ipython3",
   "version": "3.10.0"
  },
  "orig_nbformat": 4
 },
 "nbformat": 4,
 "nbformat_minor": 2
}
